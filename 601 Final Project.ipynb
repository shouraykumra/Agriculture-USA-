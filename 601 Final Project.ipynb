{
 "cells": [
  {
   "cell_type": "markdown",
   "metadata": {},
   "source": [
    "# Agriculture Dataset"
   ]
  },
  {
   "cell_type": "markdown",
   "metadata": {},
   "source": [
    "These two datasets focus on the theme of agriculture, which consists of important features like location, price, crop name, year it was grown in, etc."
   ]
  },
  {
   "cell_type": "markdown",
   "metadata": {},
   "source": [
    "# What data depicts?"
   ]
  },
  {
   "cell_type": "markdown",
   "metadata": {},
   "source": [
    "This database contains statistics on four feed grains (corn, grain sorghum, barley, and oats), foreign coarse grains (feed grains plus rye, millet, and mixed grains), hay, animal unit indexes of grain and roughage, rail rate indexes, and grain shipments. This includes data published in the monthly Feed Outlook and the annual Feed Yearbook reports. Here i will consider only four feed grains as proposed in the proposal."
   ]
  },
  {
   "cell_type": "markdown",
   "metadata": {},
   "source": [
    "# Contents of the Notebook:\n",
    "\n",
    "1) Analysis of the features.\n",
    "\n",
    "2) Finding any relations or trends considering multiple features.\n",
    "\n",
    "3) Removing NaN values where needed.\n",
    "\n",
    "4) Answering the question asked from data \n",
    "\n",
    "5) Prove the Hypothesis"
   ]
  },
  {
   "cell_type": "markdown",
   "metadata": {},
   "source": [
    "# Proposal"
   ]
  },
  {
   "cell_type": "markdown",
   "metadata": {},
   "source": [
    "Source for 1st csv (feedgrains): https://data.world/cdc2019/agriculture/workspace/file?filename=FeedGrains.csv\n",
    "Source for 2nd csv (projection): https://data.world/cdc2019/agriculture/workspace/file?filename=Projection2019.csv\n",
    "\n",
    "Discovery of the data: I was always curious how much crops of different kind are created every year so i searching for agriculture related dataset on data.world website and settled with this dataset as it depicts the cost of four feed grains (corn, grain sorghum, barley, and oats), foreign coarse grains (feed grains plus rye, millet, and mixed grains), hay, and related items.\n",
    "\n",
    "Size: csv1: 679.4 MB\n",
    "      csv2: 223.4 KB\n",
    "\n",
    "FeedGrain.csv depicts information of the above listed crops over the years from 1948 to 2018 for each crop and shows its pricing yearly and monthly.\n",
    "\n",
    "Projection.csv shows the value of each type from the year 2017 to 2029, this is called projection because this is just an assumption that production will increase over the years as it has increased since 1949.\n",
    "\n",
    "Question asked of the dataset: how the prices of crops in the feedgrain dataset like: barley, oats, corns and sorghum varies anually over the years and also in the projection dataset how values of crops corresponding to the feedgrain dataset varies from 2017 to 2029 and check for the hike in prices over the years and also for the coming.\n",
    "\n",
    "Hypothesis 1: Money generated from exporting the crops are more than importing the crops of each type.\n",
    "\n",
    "Hypothesis 2: Value will increase from 2018 to 2029 of each crop which is listed in projection.csv. This hypothesis is based on assumption that production and demand of the crop increases each following year."
   ]
  },
  {
   "cell_type": "markdown",
   "metadata": {},
   "source": [
    "# Question\n",
    "\n",
    "how the prices of crops in the feedgrain dataset like: barley, oats, corns and sorghum varies anually over the years and also in the projection dataset how values of crops corresponding to the feedgrain dataset varies from 2017 to 2029 and check for the hike in prices over the years and also for the coming ."
   ]
  },
  {
   "cell_type": "markdown",
   "metadata": {},
   "source": [
    "Answer: 1) Value of Corn constantly increases but in other crops the values increase till early 90s then drops.\n",
    "\n",
    "2) corn and barley increases from 2017 to 2029, whereas sorghum and oats show neither hike nor decline in values."
   ]
  },
  {
   "cell_type": "markdown",
   "metadata": {},
   "source": [
    "# Hypothesis"
   ]
  },
  {
   "cell_type": "markdown",
   "metadata": {},
   "source": [
    "1) Hypothesis 1: Money generated from exporting the crops are more than importing the crops of each type. (True)\n",
    "\n",
    "2) Hypothesis 2: Value will increase from 2017 to 2029 of each crop which is listed in projection.csv. This hypothesis is based on assumption that production and demand of the crop increases each following year. (Partially true as only values of corn and barley increases and other remain constant.)"
   ]
  },
  {
   "cell_type": "markdown",
   "metadata": {},
   "source": [
    "# Knowledge gained"
   ]
  },
  {
   "cell_type": "markdown",
   "metadata": {},
   "source": [
    "1) United states produce so much crops per year that it can supply enough crops to it's states as well as to other countries too.\n",
    "\n",
    "2) United states will be producing crops constantly in the coming year with no decrease in their production."
   ]
  },
  {
   "cell_type": "code",
   "execution_count": 1,
   "metadata": {},
   "outputs": [],
   "source": [
    "import pandas as pd\n",
    "import matplotlib.pyplot as plt\n",
    "import numpy as np\n",
    "import seaborn as sns"
   ]
  },
  {
   "cell_type": "code",
   "execution_count": 2,
   "metadata": {},
   "outputs": [],
   "source": [
    "df_feed=pd.read_csv('/home/shouray/ml1/601 week 12/FeedGrains.csv')"
   ]
  },
  {
   "cell_type": "code",
   "execution_count": 3,
   "metadata": {},
   "outputs": [
    {
     "data": {
      "text/html": [
       "<div>\n",
       "<style scoped>\n",
       "    .dataframe tbody tr th:only-of-type {\n",
       "        vertical-align: middle;\n",
       "    }\n",
       "\n",
       "    .dataframe tbody tr th {\n",
       "        vertical-align: top;\n",
       "    }\n",
       "\n",
       "    .dataframe thead th {\n",
       "        text-align: right;\n",
       "    }\n",
       "</style>\n",
       "<table border=\"1\" class=\"dataframe\">\n",
       "  <thead>\n",
       "    <tr style=\"text-align: right;\">\n",
       "      <th></th>\n",
       "      <th>SC_Group_ID</th>\n",
       "      <th>SC_Group_Desc</th>\n",
       "      <th>SC_GroupCommod_ID</th>\n",
       "      <th>SC_GroupCommod_Desc</th>\n",
       "      <th>SC_Geography_ID</th>\n",
       "      <th>SortOrder</th>\n",
       "      <th>SC_GeographyIndented_Desc</th>\n",
       "      <th>SC_Commodity_ID</th>\n",
       "      <th>SC_Commodity_Desc</th>\n",
       "      <th>SC_Attribute_ID</th>\n",
       "      <th>SC_Attribute_Desc</th>\n",
       "      <th>SC_Unit_ID</th>\n",
       "      <th>SC_Unit_Desc</th>\n",
       "      <th>Year_ID</th>\n",
       "      <th>SC_Frequency_ID</th>\n",
       "      <th>SC_Frequency_Desc</th>\n",
       "      <th>Timeperiod_ID</th>\n",
       "      <th>Timeperiod_Desc</th>\n",
       "      <th>Amount</th>\n",
       "    </tr>\n",
       "  </thead>\n",
       "  <tbody>\n",
       "    <tr>\n",
       "      <td>0</td>\n",
       "      <td>1</td>\n",
       "      <td>Prices</td>\n",
       "      <td>17.0</td>\n",
       "      <td>Oats</td>\n",
       "      <td>1</td>\n",
       "      <td>0.8</td>\n",
       "      <td>United States</td>\n",
       "      <td>3</td>\n",
       "      <td>Oats</td>\n",
       "      <td>5</td>\n",
       "      <td>Prices received by farmers</td>\n",
       "      <td>4</td>\n",
       "      <td>Dollars per bushel</td>\n",
       "      <td>1948</td>\n",
       "      <td>1</td>\n",
       "      <td>Monthly</td>\n",
       "      <td>8</td>\n",
       "      <td>Aug</td>\n",
       "      <td>0.690000</td>\n",
       "    </tr>\n",
       "    <tr>\n",
       "      <td>1</td>\n",
       "      <td>1</td>\n",
       "      <td>Prices</td>\n",
       "      <td>17.0</td>\n",
       "      <td>Oats</td>\n",
       "      <td>1</td>\n",
       "      <td>0.8</td>\n",
       "      <td>United States</td>\n",
       "      <td>3</td>\n",
       "      <td>Oats</td>\n",
       "      <td>5</td>\n",
       "      <td>Prices received by farmers</td>\n",
       "      <td>4</td>\n",
       "      <td>Dollars per bushel</td>\n",
       "      <td>1948</td>\n",
       "      <td>1</td>\n",
       "      <td>Monthly</td>\n",
       "      <td>9</td>\n",
       "      <td>Sep</td>\n",
       "      <td>0.690000</td>\n",
       "    </tr>\n",
       "    <tr>\n",
       "      <td>2</td>\n",
       "      <td>1</td>\n",
       "      <td>Prices</td>\n",
       "      <td>17.0</td>\n",
       "      <td>Oats</td>\n",
       "      <td>1</td>\n",
       "      <td>0.8</td>\n",
       "      <td>United States</td>\n",
       "      <td>3</td>\n",
       "      <td>Oats</td>\n",
       "      <td>5</td>\n",
       "      <td>Prices received by farmers</td>\n",
       "      <td>4</td>\n",
       "      <td>Dollars per bushel</td>\n",
       "      <td>1948</td>\n",
       "      <td>1</td>\n",
       "      <td>Monthly</td>\n",
       "      <td>10</td>\n",
       "      <td>Oct</td>\n",
       "      <td>0.700000</td>\n",
       "    </tr>\n",
       "    <tr>\n",
       "      <td>3</td>\n",
       "      <td>1</td>\n",
       "      <td>Prices</td>\n",
       "      <td>17.0</td>\n",
       "      <td>Oats</td>\n",
       "      <td>1</td>\n",
       "      <td>0.8</td>\n",
       "      <td>United States</td>\n",
       "      <td>3</td>\n",
       "      <td>Oats</td>\n",
       "      <td>5</td>\n",
       "      <td>Prices received by farmers</td>\n",
       "      <td>4</td>\n",
       "      <td>Dollars per bushel</td>\n",
       "      <td>1948</td>\n",
       "      <td>1</td>\n",
       "      <td>Monthly</td>\n",
       "      <td>11</td>\n",
       "      <td>Nov</td>\n",
       "      <td>0.760000</td>\n",
       "    </tr>\n",
       "    <tr>\n",
       "      <td>4</td>\n",
       "      <td>1</td>\n",
       "      <td>Prices</td>\n",
       "      <td>17.0</td>\n",
       "      <td>Oats</td>\n",
       "      <td>1</td>\n",
       "      <td>0.8</td>\n",
       "      <td>United States</td>\n",
       "      <td>3</td>\n",
       "      <td>Oats</td>\n",
       "      <td>5</td>\n",
       "      <td>Prices received by farmers</td>\n",
       "      <td>4</td>\n",
       "      <td>Dollars per bushel</td>\n",
       "      <td>1948</td>\n",
       "      <td>1</td>\n",
       "      <td>Monthly</td>\n",
       "      <td>12</td>\n",
       "      <td>Dec</td>\n",
       "      <td>0.760000</td>\n",
       "    </tr>\n",
       "    <tr>\n",
       "      <td>...</td>\n",
       "      <td>...</td>\n",
       "      <td>...</td>\n",
       "      <td>...</td>\n",
       "      <td>...</td>\n",
       "      <td>...</td>\n",
       "      <td>...</td>\n",
       "      <td>...</td>\n",
       "      <td>...</td>\n",
       "      <td>...</td>\n",
       "      <td>...</td>\n",
       "      <td>...</td>\n",
       "      <td>...</td>\n",
       "      <td>...</td>\n",
       "      <td>...</td>\n",
       "      <td>...</td>\n",
       "      <td>...</td>\n",
       "      <td>...</td>\n",
       "      <td>...</td>\n",
       "      <td>...</td>\n",
       "    </tr>\n",
       "    <tr>\n",
       "      <td>463113</td>\n",
       "      <td>3</td>\n",
       "      <td>Exports and imports</td>\n",
       "      <td>12.0</td>\n",
       "      <td>Corn</td>\n",
       "      <td>204</td>\n",
       "      <td>187.0</td>\n",
       "      <td>China (Taiwan)</td>\n",
       "      <td>2</td>\n",
       "      <td>Corn</td>\n",
       "      <td>19</td>\n",
       "      <td>Imports, to U.S. from specified source</td>\n",
       "      <td>7</td>\n",
       "      <td>1,000 metric tons</td>\n",
       "      <td>2019</td>\n",
       "      <td>1</td>\n",
       "      <td>Monthly</td>\n",
       "      <td>7</td>\n",
       "      <td>Jul</td>\n",
       "      <td>0.631104</td>\n",
       "    </tr>\n",
       "    <tr>\n",
       "      <td>463114</td>\n",
       "      <td>2</td>\n",
       "      <td>Supply and use</td>\n",
       "      <td>12.0</td>\n",
       "      <td>Corn</td>\n",
       "      <td>204</td>\n",
       "      <td>187.0</td>\n",
       "      <td>China (Taiwan)</td>\n",
       "      <td>2</td>\n",
       "      <td>Corn</td>\n",
       "      <td>35</td>\n",
       "      <td>Exports, trade year</td>\n",
       "      <td>7</td>\n",
       "      <td>1,000 metric tons</td>\n",
       "      <td>1991</td>\n",
       "      <td>3</td>\n",
       "      <td>Annual</td>\n",
       "      <td>114</td>\n",
       "      <td>MY Oct-Sep</td>\n",
       "      <td>10.000000</td>\n",
       "    </tr>\n",
       "    <tr>\n",
       "      <td>463115</td>\n",
       "      <td>2</td>\n",
       "      <td>Supply and use</td>\n",
       "      <td>12.0</td>\n",
       "      <td>Corn</td>\n",
       "      <td>204</td>\n",
       "      <td>187.0</td>\n",
       "      <td>China (Taiwan)</td>\n",
       "      <td>2</td>\n",
       "      <td>Corn</td>\n",
       "      <td>35</td>\n",
       "      <td>Exports, trade year</td>\n",
       "      <td>7</td>\n",
       "      <td>1,000 metric tons</td>\n",
       "      <td>1992</td>\n",
       "      <td>3</td>\n",
       "      <td>Annual</td>\n",
       "      <td>114</td>\n",
       "      <td>MY Oct-Sep</td>\n",
       "      <td>17.000000</td>\n",
       "    </tr>\n",
       "    <tr>\n",
       "      <td>463116</td>\n",
       "      <td>3</td>\n",
       "      <td>Exports and imports</td>\n",
       "      <td>12.0</td>\n",
       "      <td>Corn</td>\n",
       "      <td>204</td>\n",
       "      <td>187.0</td>\n",
       "      <td>China (Taiwan)</td>\n",
       "      <td>11</td>\n",
       "      <td>Corn grain</td>\n",
       "      <td>19</td>\n",
       "      <td>Imports, to U.S. from specified source</td>\n",
       "      <td>7</td>\n",
       "      <td>1,000 metric tons</td>\n",
       "      <td>2018</td>\n",
       "      <td>3</td>\n",
       "      <td>Annual</td>\n",
       "      <td>31</td>\n",
       "      <td>MY Sep-Aug</td>\n",
       "      <td>0.000306</td>\n",
       "    </tr>\n",
       "    <tr>\n",
       "      <td>463117</td>\n",
       "      <td>3</td>\n",
       "      <td>Exports and imports</td>\n",
       "      <td>12.0</td>\n",
       "      <td>Corn</td>\n",
       "      <td>204</td>\n",
       "      <td>187.0</td>\n",
       "      <td>China (Taiwan)</td>\n",
       "      <td>11</td>\n",
       "      <td>Corn grain</td>\n",
       "      <td>19</td>\n",
       "      <td>Imports, to U.S. from specified source</td>\n",
       "      <td>7</td>\n",
       "      <td>1,000 metric tons</td>\n",
       "      <td>2019</td>\n",
       "      <td>1</td>\n",
       "      <td>Monthly</td>\n",
       "      <td>5</td>\n",
       "      <td>May</td>\n",
       "      <td>0.000306</td>\n",
       "    </tr>\n",
       "  </tbody>\n",
       "</table>\n",
       "<p>463118 rows × 19 columns</p>\n",
       "</div>"
      ],
      "text/plain": [
       "        SC_Group_ID        SC_Group_Desc  SC_GroupCommod_ID  \\\n",
       "0                 1               Prices               17.0   \n",
       "1                 1               Prices               17.0   \n",
       "2                 1               Prices               17.0   \n",
       "3                 1               Prices               17.0   \n",
       "4                 1               Prices               17.0   \n",
       "...             ...                  ...                ...   \n",
       "463113            3  Exports and imports               12.0   \n",
       "463114            2       Supply and use               12.0   \n",
       "463115            2       Supply and use               12.0   \n",
       "463116            3  Exports and imports               12.0   \n",
       "463117            3  Exports and imports               12.0   \n",
       "\n",
       "       SC_GroupCommod_Desc  SC_Geography_ID  SortOrder  \\\n",
       "0                     Oats                1        0.8   \n",
       "1                     Oats                1        0.8   \n",
       "2                     Oats                1        0.8   \n",
       "3                     Oats                1        0.8   \n",
       "4                     Oats                1        0.8   \n",
       "...                    ...              ...        ...   \n",
       "463113                Corn              204      187.0   \n",
       "463114                Corn              204      187.0   \n",
       "463115                Corn              204      187.0   \n",
       "463116                Corn              204      187.0   \n",
       "463117                Corn              204      187.0   \n",
       "\n",
       "       SC_GeographyIndented_Desc  SC_Commodity_ID SC_Commodity_Desc  \\\n",
       "0                  United States                3              Oats   \n",
       "1                  United States                3              Oats   \n",
       "2                  United States                3              Oats   \n",
       "3                  United States                3              Oats   \n",
       "4                  United States                3              Oats   \n",
       "...                          ...              ...               ...   \n",
       "463113            China (Taiwan)                2              Corn   \n",
       "463114            China (Taiwan)                2              Corn   \n",
       "463115            China (Taiwan)                2              Corn   \n",
       "463116            China (Taiwan)               11        Corn grain   \n",
       "463117            China (Taiwan)               11        Corn grain   \n",
       "\n",
       "        SC_Attribute_ID                       SC_Attribute_Desc  SC_Unit_ID  \\\n",
       "0                     5              Prices received by farmers           4   \n",
       "1                     5              Prices received by farmers           4   \n",
       "2                     5              Prices received by farmers           4   \n",
       "3                     5              Prices received by farmers           4   \n",
       "4                     5              Prices received by farmers           4   \n",
       "...                 ...                                     ...         ...   \n",
       "463113               19  Imports, to U.S. from specified source           7   \n",
       "463114               35                     Exports, trade year           7   \n",
       "463115               35                     Exports, trade year           7   \n",
       "463116               19  Imports, to U.S. from specified source           7   \n",
       "463117               19  Imports, to U.S. from specified source           7   \n",
       "\n",
       "              SC_Unit_Desc  Year_ID  SC_Frequency_ID SC_Frequency_Desc  \\\n",
       "0       Dollars per bushel     1948                1           Monthly   \n",
       "1       Dollars per bushel     1948                1           Monthly   \n",
       "2       Dollars per bushel     1948                1           Monthly   \n",
       "3       Dollars per bushel     1948                1           Monthly   \n",
       "4       Dollars per bushel     1948                1           Monthly   \n",
       "...                    ...      ...              ...               ...   \n",
       "463113   1,000 metric tons     2019                1           Monthly   \n",
       "463114   1,000 metric tons     1991                3            Annual   \n",
       "463115   1,000 metric tons     1992                3            Annual   \n",
       "463116   1,000 metric tons     2018                3            Annual   \n",
       "463117   1,000 metric tons     2019                1           Monthly   \n",
       "\n",
       "        Timeperiod_ID Timeperiod_Desc     Amount  \n",
       "0                   8             Aug   0.690000  \n",
       "1                   9             Sep   0.690000  \n",
       "2                  10             Oct   0.700000  \n",
       "3                  11             Nov   0.760000  \n",
       "4                  12             Dec   0.760000  \n",
       "...               ...             ...        ...  \n",
       "463113              7             Jul   0.631104  \n",
       "463114            114      MY Oct-Sep  10.000000  \n",
       "463115            114      MY Oct-Sep  17.000000  \n",
       "463116             31      MY Sep-Aug   0.000306  \n",
       "463117              5             May   0.000306  \n",
       "\n",
       "[463118 rows x 19 columns]"
      ]
     },
     "execution_count": 3,
     "metadata": {},
     "output_type": "execute_result"
    }
   ],
   "source": [
    "df_feed"
   ]
  },
  {
   "cell_type": "markdown",
   "metadata": {},
   "source": [
    "##### selecting only the columns those are relevant and provide some information."
   ]
  },
  {
   "cell_type": "code",
   "execution_count": 4,
   "metadata": {},
   "outputs": [],
   "source": [
    "df_feed=pd.DataFrame(df_feed, columns=['SC_Group_Desc', 'SC_Commodity_Desc', 'SC_Attribute_Desc', \n",
    "                                             'SC_Unit_Desc', 'Year_ID','SC_Frequency_Desc',\n",
    "                                             'Timeperiod_Desc', 'Amount', 'SC_GeographyIndented_Desc'])"
   ]
  },
  {
   "cell_type": "markdown",
   "metadata": {},
   "source": [
    "##### reading the projection csv which shows future data of the crops including present and last year."
   ]
  },
  {
   "cell_type": "code",
   "execution_count": 5,
   "metadata": {},
   "outputs": [],
   "source": [
    "df_projection=pd.read_csv('/home/shouray/ml1/601 week 12/Projection2019.csv', index_col='YearType')"
   ]
  },
  {
   "cell_type": "code",
   "execution_count": 6,
   "metadata": {},
   "outputs": [
    {
     "data": {
      "text/html": [
       "<div>\n",
       "<style scoped>\n",
       "    .dataframe tbody tr th:only-of-type {\n",
       "        vertical-align: middle;\n",
       "    }\n",
       "\n",
       "    .dataframe tbody tr th {\n",
       "        vertical-align: top;\n",
       "    }\n",
       "\n",
       "    .dataframe thead th {\n",
       "        text-align: right;\n",
       "    }\n",
       "</style>\n",
       "<table border=\"1\" class=\"dataframe\">\n",
       "  <thead>\n",
       "    <tr style=\"text-align: right;\">\n",
       "      <th></th>\n",
       "      <th>Attribute</th>\n",
       "      <th>Commodity</th>\n",
       "      <th>CommodityType</th>\n",
       "      <th>Units</th>\n",
       "      <th>Year</th>\n",
       "      <th>Value</th>\n",
       "    </tr>\n",
       "    <tr>\n",
       "      <th>YearType</th>\n",
       "      <th></th>\n",
       "      <th></th>\n",
       "      <th></th>\n",
       "      <th></th>\n",
       "      <th></th>\n",
       "      <th></th>\n",
       "    </tr>\n",
       "  </thead>\n",
       "  <tbody>\n",
       "    <tr>\n",
       "      <td>Market year</td>\n",
       "      <td>Beginning stocks</td>\n",
       "      <td>Barley</td>\n",
       "      <td>Crops</td>\n",
       "      <td>Million bushels</td>\n",
       "      <td>2017/18</td>\n",
       "      <td>106.0</td>\n",
       "    </tr>\n",
       "    <tr>\n",
       "      <td>Market year</td>\n",
       "      <td>Beginning stocks</td>\n",
       "      <td>Barley</td>\n",
       "      <td>Crops</td>\n",
       "      <td>Million bushels</td>\n",
       "      <td>2018/19</td>\n",
       "      <td>94.0</td>\n",
       "    </tr>\n",
       "    <tr>\n",
       "      <td>Market year</td>\n",
       "      <td>Beginning stocks</td>\n",
       "      <td>Barley</td>\n",
       "      <td>Crops</td>\n",
       "      <td>Million bushels</td>\n",
       "      <td>2019/20</td>\n",
       "      <td>88.0</td>\n",
       "    </tr>\n",
       "    <tr>\n",
       "      <td>Market year</td>\n",
       "      <td>Beginning stocks</td>\n",
       "      <td>Barley</td>\n",
       "      <td>Crops</td>\n",
       "      <td>Million bushels</td>\n",
       "      <td>2020/21</td>\n",
       "      <td>87.0</td>\n",
       "    </tr>\n",
       "    <tr>\n",
       "      <td>Market year</td>\n",
       "      <td>Beginning stocks</td>\n",
       "      <td>Barley</td>\n",
       "      <td>Crops</td>\n",
       "      <td>Million bushels</td>\n",
       "      <td>2021/22</td>\n",
       "      <td>83.0</td>\n",
       "    </tr>\n",
       "    <tr>\n",
       "      <td>...</td>\n",
       "      <td>...</td>\n",
       "      <td>...</td>\n",
       "      <td>...</td>\n",
       "      <td>...</td>\n",
       "      <td>...</td>\n",
       "      <td>...</td>\n",
       "    </tr>\n",
       "    <tr>\n",
       "      <td>Market year</td>\n",
       "      <td>Yield/harvested acre</td>\n",
       "      <td>Wheat</td>\n",
       "      <td>Crops</td>\n",
       "      <td>Bushels per acre</td>\n",
       "      <td>2024/25</td>\n",
       "      <td>49.8</td>\n",
       "    </tr>\n",
       "    <tr>\n",
       "      <td>Market year</td>\n",
       "      <td>Yield/harvested acre</td>\n",
       "      <td>Wheat</td>\n",
       "      <td>Crops</td>\n",
       "      <td>Bushels per acre</td>\n",
       "      <td>2025/26</td>\n",
       "      <td>50.2</td>\n",
       "    </tr>\n",
       "    <tr>\n",
       "      <td>Market year</td>\n",
       "      <td>Yield/harvested acre</td>\n",
       "      <td>Wheat</td>\n",
       "      <td>Crops</td>\n",
       "      <td>Bushels per acre</td>\n",
       "      <td>2026/27</td>\n",
       "      <td>50.6</td>\n",
       "    </tr>\n",
       "    <tr>\n",
       "      <td>Market year</td>\n",
       "      <td>Yield/harvested acre</td>\n",
       "      <td>Wheat</td>\n",
       "      <td>Crops</td>\n",
       "      <td>Bushels per acre</td>\n",
       "      <td>2027/28</td>\n",
       "      <td>51.0</td>\n",
       "    </tr>\n",
       "    <tr>\n",
       "      <td>Market year</td>\n",
       "      <td>Yield/harvested acre</td>\n",
       "      <td>Wheat</td>\n",
       "      <td>Crops</td>\n",
       "      <td>Bushels per acre</td>\n",
       "      <td>2028/29</td>\n",
       "      <td>51.4</td>\n",
       "    </tr>\n",
       "  </tbody>\n",
       "</table>\n",
       "<p>2928 rows × 6 columns</p>\n",
       "</div>"
      ],
      "text/plain": [
       "                        Attribute Commodity CommodityType             Units  \\\n",
       "YearType                                                                      \n",
       "Market year      Beginning stocks    Barley         Crops   Million bushels   \n",
       "Market year      Beginning stocks    Barley         Crops   Million bushels   \n",
       "Market year      Beginning stocks    Barley         Crops   Million bushels   \n",
       "Market year      Beginning stocks    Barley         Crops   Million bushels   \n",
       "Market year      Beginning stocks    Barley         Crops   Million bushels   \n",
       "...                           ...       ...           ...               ...   \n",
       "Market year  Yield/harvested acre     Wheat         Crops  Bushels per acre   \n",
       "Market year  Yield/harvested acre     Wheat         Crops  Bushels per acre   \n",
       "Market year  Yield/harvested acre     Wheat         Crops  Bushels per acre   \n",
       "Market year  Yield/harvested acre     Wheat         Crops  Bushels per acre   \n",
       "Market year  Yield/harvested acre     Wheat         Crops  Bushels per acre   \n",
       "\n",
       "                Year  Value  \n",
       "YearType                     \n",
       "Market year  2017/18  106.0  \n",
       "Market year  2018/19   94.0  \n",
       "Market year  2019/20   88.0  \n",
       "Market year  2020/21   87.0  \n",
       "Market year  2021/22   83.0  \n",
       "...              ...    ...  \n",
       "Market year  2024/25   49.8  \n",
       "Market year  2025/26   50.2  \n",
       "Market year  2026/27   50.6  \n",
       "Market year  2027/28   51.0  \n",
       "Market year  2028/29   51.4  \n",
       "\n",
       "[2928 rows x 6 columns]"
      ]
     },
     "execution_count": 6,
     "metadata": {},
     "output_type": "execute_result"
    }
   ],
   "source": [
    "df_projection"
   ]
  },
  {
   "cell_type": "markdown",
   "metadata": {},
   "source": [
    "##### Commodities present in the projection dataframe"
   ]
  },
  {
   "cell_type": "code",
   "execution_count": 7,
   "metadata": {},
   "outputs": [
    {
     "data": {
      "text/plain": [
       "Corn                                          240\n",
       "Wheat                                         240\n",
       "Soybeans                                      228\n",
       "Oats                                          228\n",
       "Sorghum                                       228\n",
       "Barley                                        228\n",
       "Rice                                          216\n",
       "Upland Cotton                                 204\n",
       "Beef                                          192\n",
       "Pork                                          144\n",
       "Egg                                           132\n",
       "Soybean oil                                   132\n",
       "Soybean meal                                  120\n",
       "Per capita meat consumption, retail weight    120\n",
       "Chicken                                       108\n",
       "Turkey                                         96\n",
       "Dairy                                          72\n",
       "Name: Commodity, dtype: int64"
      ]
     },
     "execution_count": 7,
     "metadata": {},
     "output_type": "execute_result"
    }
   ],
   "source": [
    "df_projection['Commodity'].value_counts()"
   ]
  },
  {
   "cell_type": "markdown",
   "metadata": {},
   "source": [
    "I renamed Market Year to Commodity market year for simplicity of understanding two datasets as both specify the same information."
   ]
  },
  {
   "cell_type": "code",
   "execution_count": 8,
   "metadata": {},
   "outputs": [],
   "source": [
    "df_projection=df_projection.rename(index={'Market year':'Commodity Market Year'})"
   ]
  },
  {
   "cell_type": "code",
   "execution_count": 9,
   "metadata": {},
   "outputs": [],
   "source": [
    "df_projection=df_projection.rename_axis('YearType').reset_index()"
   ]
  },
  {
   "cell_type": "markdown",
   "metadata": {},
   "source": [
    "Therefore, to select only above mentioned crops I set the index as 'Commodity' and selected the required crops"
   ]
  },
  {
   "cell_type": "code",
   "execution_count": 10,
   "metadata": {},
   "outputs": [],
   "source": [
    "df_projection.set_index('Commodity', inplace=True)"
   ]
  },
  {
   "cell_type": "code",
   "execution_count": 11,
   "metadata": {},
   "outputs": [],
   "source": [
    "df_projection=df_projection.loc[['Corn', 'Barley', 'Sorghum', 'Oats']]"
   ]
  },
  {
   "cell_type": "code",
   "execution_count": 12,
   "metadata": {},
   "outputs": [],
   "source": [
    "df_projection=df_projection.rename_axis('Commodity').reset_index()"
   ]
  },
  {
   "cell_type": "code",
   "execution_count": 13,
   "metadata": {},
   "outputs": [
    {
     "data": {
      "text/html": [
       "<div>\n",
       "<style scoped>\n",
       "    .dataframe tbody tr th:only-of-type {\n",
       "        vertical-align: middle;\n",
       "    }\n",
       "\n",
       "    .dataframe tbody tr th {\n",
       "        vertical-align: top;\n",
       "    }\n",
       "\n",
       "    .dataframe thead th {\n",
       "        text-align: right;\n",
       "    }\n",
       "</style>\n",
       "<table border=\"1\" class=\"dataframe\">\n",
       "  <thead>\n",
       "    <tr style=\"text-align: right;\">\n",
       "      <th></th>\n",
       "      <th>Commodity</th>\n",
       "      <th>YearType</th>\n",
       "      <th>Attribute</th>\n",
       "      <th>CommodityType</th>\n",
       "      <th>Units</th>\n",
       "      <th>Year</th>\n",
       "      <th>Value</th>\n",
       "    </tr>\n",
       "  </thead>\n",
       "  <tbody>\n",
       "    <tr>\n",
       "      <td>0</td>\n",
       "      <td>Corn</td>\n",
       "      <td>Commodity Market Year</td>\n",
       "      <td>Beginning stocks</td>\n",
       "      <td>Crops</td>\n",
       "      <td>Million bushels</td>\n",
       "      <td>2017/18</td>\n",
       "      <td>2293.0</td>\n",
       "    </tr>\n",
       "    <tr>\n",
       "      <td>1</td>\n",
       "      <td>Corn</td>\n",
       "      <td>Commodity Market Year</td>\n",
       "      <td>Beginning stocks</td>\n",
       "      <td>Crops</td>\n",
       "      <td>Million bushels</td>\n",
       "      <td>2018/19</td>\n",
       "      <td>2140.0</td>\n",
       "    </tr>\n",
       "    <tr>\n",
       "      <td>2</td>\n",
       "      <td>Corn</td>\n",
       "      <td>Commodity Market Year</td>\n",
       "      <td>Beginning stocks</td>\n",
       "      <td>Crops</td>\n",
       "      <td>Million bushels</td>\n",
       "      <td>2019/20</td>\n",
       "      <td>1813.0</td>\n",
       "    </tr>\n",
       "    <tr>\n",
       "      <td>3</td>\n",
       "      <td>Corn</td>\n",
       "      <td>Commodity Market Year</td>\n",
       "      <td>Beginning stocks</td>\n",
       "      <td>Crops</td>\n",
       "      <td>Million bushels</td>\n",
       "      <td>2020/21</td>\n",
       "      <td>1603.0</td>\n",
       "    </tr>\n",
       "    <tr>\n",
       "      <td>4</td>\n",
       "      <td>Corn</td>\n",
       "      <td>Commodity Market Year</td>\n",
       "      <td>Beginning stocks</td>\n",
       "      <td>Crops</td>\n",
       "      <td>Million bushels</td>\n",
       "      <td>2021/22</td>\n",
       "      <td>1618.0</td>\n",
       "    </tr>\n",
       "    <tr>\n",
       "      <td>...</td>\n",
       "      <td>...</td>\n",
       "      <td>...</td>\n",
       "      <td>...</td>\n",
       "      <td>...</td>\n",
       "      <td>...</td>\n",
       "      <td>...</td>\n",
       "      <td>...</td>\n",
       "    </tr>\n",
       "    <tr>\n",
       "      <td>919</td>\n",
       "      <td>Oats</td>\n",
       "      <td>Commodity Market Year</td>\n",
       "      <td>Yield/harvested acre</td>\n",
       "      <td>Crops</td>\n",
       "      <td>Bushels per acre</td>\n",
       "      <td>2024/25</td>\n",
       "      <td>68.0</td>\n",
       "    </tr>\n",
       "    <tr>\n",
       "      <td>920</td>\n",
       "      <td>Oats</td>\n",
       "      <td>Commodity Market Year</td>\n",
       "      <td>Yield/harvested acre</td>\n",
       "      <td>Crops</td>\n",
       "      <td>Bushels per acre</td>\n",
       "      <td>2025/26</td>\n",
       "      <td>68.4</td>\n",
       "    </tr>\n",
       "    <tr>\n",
       "      <td>921</td>\n",
       "      <td>Oats</td>\n",
       "      <td>Commodity Market Year</td>\n",
       "      <td>Yield/harvested acre</td>\n",
       "      <td>Crops</td>\n",
       "      <td>Bushels per acre</td>\n",
       "      <td>2026/27</td>\n",
       "      <td>68.7</td>\n",
       "    </tr>\n",
       "    <tr>\n",
       "      <td>922</td>\n",
       "      <td>Oats</td>\n",
       "      <td>Commodity Market Year</td>\n",
       "      <td>Yield/harvested acre</td>\n",
       "      <td>Crops</td>\n",
       "      <td>Bushels per acre</td>\n",
       "      <td>2027/28</td>\n",
       "      <td>69.0</td>\n",
       "    </tr>\n",
       "    <tr>\n",
       "      <td>923</td>\n",
       "      <td>Oats</td>\n",
       "      <td>Commodity Market Year</td>\n",
       "      <td>Yield/harvested acre</td>\n",
       "      <td>Crops</td>\n",
       "      <td>Bushels per acre</td>\n",
       "      <td>2028/29</td>\n",
       "      <td>69.4</td>\n",
       "    </tr>\n",
       "  </tbody>\n",
       "</table>\n",
       "<p>924 rows × 7 columns</p>\n",
       "</div>"
      ],
      "text/plain": [
       "    Commodity               YearType             Attribute CommodityType  \\\n",
       "0        Corn  Commodity Market Year      Beginning stocks         Crops   \n",
       "1        Corn  Commodity Market Year      Beginning stocks         Crops   \n",
       "2        Corn  Commodity Market Year      Beginning stocks         Crops   \n",
       "3        Corn  Commodity Market Year      Beginning stocks         Crops   \n",
       "4        Corn  Commodity Market Year      Beginning stocks         Crops   \n",
       "..        ...                    ...                   ...           ...   \n",
       "919      Oats  Commodity Market Year  Yield/harvested acre         Crops   \n",
       "920      Oats  Commodity Market Year  Yield/harvested acre         Crops   \n",
       "921      Oats  Commodity Market Year  Yield/harvested acre         Crops   \n",
       "922      Oats  Commodity Market Year  Yield/harvested acre         Crops   \n",
       "923      Oats  Commodity Market Year  Yield/harvested acre         Crops   \n",
       "\n",
       "                Units     Year   Value  \n",
       "0     Million bushels  2017/18  2293.0  \n",
       "1     Million bushels  2018/19  2140.0  \n",
       "2     Million bushels  2019/20  1813.0  \n",
       "3     Million bushels  2020/21  1603.0  \n",
       "4     Million bushels  2021/22  1618.0  \n",
       "..                ...      ...     ...  \n",
       "919  Bushels per acre  2024/25    68.0  \n",
       "920  Bushels per acre  2025/26    68.4  \n",
       "921  Bushels per acre  2026/27    68.7  \n",
       "922  Bushels per acre  2027/28    69.0  \n",
       "923  Bushels per acre  2028/29    69.4  \n",
       "\n",
       "[924 rows x 7 columns]"
      ]
     },
     "execution_count": 13,
     "metadata": {},
     "output_type": "execute_result"
    }
   ],
   "source": [
    "df_projection"
   ]
  },
  {
   "cell_type": "markdown",
   "metadata": {},
   "source": [
    "##### Comparing the columns of both the datasets."
   ]
  },
  {
   "cell_type": "code",
   "execution_count": 14,
   "metadata": {},
   "outputs": [
    {
     "data": {
      "text/plain": [
       "Index(['SC_Group_Desc', 'SC_Commodity_Desc', 'SC_Attribute_Desc',\n",
       "       'SC_Unit_Desc', 'Year_ID', 'SC_Frequency_Desc', 'Timeperiod_Desc',\n",
       "       'Amount', 'SC_GeographyIndented_Desc'],\n",
       "      dtype='object')"
      ]
     },
     "execution_count": 14,
     "metadata": {},
     "output_type": "execute_result"
    }
   ],
   "source": [
    "df_feed.columns"
   ]
  },
  {
   "cell_type": "code",
   "execution_count": 15,
   "metadata": {},
   "outputs": [
    {
     "data": {
      "text/plain": [
       "Index(['Commodity', 'YearType', 'Attribute', 'CommodityType', 'Units', 'Year',\n",
       "       'Value'],\n",
       "      dtype='object')"
      ]
     },
     "execution_count": 15,
     "metadata": {},
     "output_type": "execute_result"
    }
   ],
   "source": [
    "df_projection.columns"
   ]
  },
  {
   "cell_type": "markdown",
   "metadata": {},
   "source": [
    "##### Two datasets have relatable values under columns but they are two different datasets so column names are different, to counter that we need to change the column names."
   ]
  },
  {
   "cell_type": "markdown",
   "metadata": {},
   "source": [
    "##### In order to combine the data we need to change column names of one of the table and match it with other."
   ]
  },
  {
   "cell_type": "markdown",
   "metadata": {},
   "source": [
    "'Amount' in feedgrain dataset becames 'Value, as, in feedgrain dataframe cost is depicted by amount column and in projection dataframe under Value column."
   ]
  },
  {
   "cell_type": "code",
   "execution_count": 16,
   "metadata": {},
   "outputs": [],
   "source": [
    "df_feed=df_feed.rename(columns={'SC_Commodity_Desc':'Commodity', 'SC_Attribute_Desc':'Attribute', 'SC_Unit_Desc':'Units', \n",
    "                       'Year_ID':'Year', 'SC_Frequency_Desc':'Frequency', 'Timeperiod_Desc':'YearType', 'Amount':'Value'})"
   ]
  },
  {
   "cell_type": "markdown",
   "metadata": {},
   "source": [
    "#### only taking the annual data as we are considering only 'commodity market year' and hypothesis is also based on annual change."
   ]
  },
  {
   "cell_type": "code",
   "execution_count": 17,
   "metadata": {},
   "outputs": [],
   "source": [
    "df_feed=df_feed[df_feed['Frequency']=='Annual']"
   ]
  },
  {
   "cell_type": "markdown",
   "metadata": {},
   "source": [
    "##### taking only 4 kind of crops barley, corn, oats and sorghum"
   ]
  },
  {
   "cell_type": "code",
   "execution_count": 18,
   "metadata": {},
   "outputs": [],
   "source": [
    "df_feed=df_feed.set_index('Commodity')"
   ]
  },
  {
   "cell_type": "markdown",
   "metadata": {},
   "source": [
    "##### After setting up the index we will choose 4 kind of crops from it."
   ]
  },
  {
   "cell_type": "code",
   "execution_count": 19,
   "metadata": {},
   "outputs": [],
   "source": [
    "df_feed=df_feed.loc[['Corn', 'Barley', 'Sorghum', 'Oats']]"
   ]
  },
  {
   "cell_type": "markdown",
   "metadata": {},
   "source": [
    "##### Putting the column in place that was made the index"
   ]
  },
  {
   "cell_type": "code",
   "execution_count": 20,
   "metadata": {},
   "outputs": [],
   "source": [
    "df_feed=df_feed.rename_axis('Commodity').reset_index()"
   ]
  },
  {
   "cell_type": "markdown",
   "metadata": {},
   "source": [
    "##### Now we need to consider United State as the location as in projection dataset only information of United States is present and considering other countries would not help with the comparison."
   ]
  },
  {
   "cell_type": "code",
   "execution_count": 21,
   "metadata": {},
   "outputs": [],
   "source": [
    "df_feed=df_feed[df_feed['SC_GeographyIndented_Desc']=='United States']"
   ]
  },
  {
   "cell_type": "code",
   "execution_count": 22,
   "metadata": {},
   "outputs": [
    {
     "data": {
      "text/html": [
       "<div>\n",
       "<style scoped>\n",
       "    .dataframe tbody tr th:only-of-type {\n",
       "        vertical-align: middle;\n",
       "    }\n",
       "\n",
       "    .dataframe tbody tr th {\n",
       "        vertical-align: top;\n",
       "    }\n",
       "\n",
       "    .dataframe thead th {\n",
       "        text-align: right;\n",
       "    }\n",
       "</style>\n",
       "<table border=\"1\" class=\"dataframe\">\n",
       "  <thead>\n",
       "    <tr style=\"text-align: right;\">\n",
       "      <th></th>\n",
       "      <th>Commodity</th>\n",
       "      <th>SC_Group_Desc</th>\n",
       "      <th>Attribute</th>\n",
       "      <th>Units</th>\n",
       "      <th>Year</th>\n",
       "      <th>Frequency</th>\n",
       "      <th>YearType</th>\n",
       "      <th>Value</th>\n",
       "      <th>SC_GeographyIndented_Desc</th>\n",
       "    </tr>\n",
       "  </thead>\n",
       "  <tbody>\n",
       "    <tr>\n",
       "      <td>0</td>\n",
       "      <td>Corn</td>\n",
       "      <td>Prices</td>\n",
       "      <td>Prices received by farmers</td>\n",
       "      <td>Dollars per bushel</td>\n",
       "      <td>1866</td>\n",
       "      <td>Annual</td>\n",
       "      <td>Commodity Market Year</td>\n",
       "      <td>0.657</td>\n",
       "      <td>United States</td>\n",
       "    </tr>\n",
       "    <tr>\n",
       "      <td>1</td>\n",
       "      <td>Corn</td>\n",
       "      <td>Prices</td>\n",
       "      <td>Prices received by farmers</td>\n",
       "      <td>Dollars per bushel</td>\n",
       "      <td>1867</td>\n",
       "      <td>Annual</td>\n",
       "      <td>Commodity Market Year</td>\n",
       "      <td>0.781</td>\n",
       "      <td>United States</td>\n",
       "    </tr>\n",
       "    <tr>\n",
       "      <td>2</td>\n",
       "      <td>Corn</td>\n",
       "      <td>Prices</td>\n",
       "      <td>Prices received by farmers</td>\n",
       "      <td>Dollars per bushel</td>\n",
       "      <td>1868</td>\n",
       "      <td>Annual</td>\n",
       "      <td>Commodity Market Year</td>\n",
       "      <td>0.617</td>\n",
       "      <td>United States</td>\n",
       "    </tr>\n",
       "    <tr>\n",
       "      <td>3</td>\n",
       "      <td>Corn</td>\n",
       "      <td>Prices</td>\n",
       "      <td>Prices received by farmers</td>\n",
       "      <td>Dollars per bushel</td>\n",
       "      <td>1869</td>\n",
       "      <td>Annual</td>\n",
       "      <td>Commodity Market Year</td>\n",
       "      <td>0.725</td>\n",
       "      <td>United States</td>\n",
       "    </tr>\n",
       "    <tr>\n",
       "      <td>4</td>\n",
       "      <td>Corn</td>\n",
       "      <td>Prices</td>\n",
       "      <td>Prices received by farmers</td>\n",
       "      <td>Dollars per bushel</td>\n",
       "      <td>1870</td>\n",
       "      <td>Annual</td>\n",
       "      <td>Commodity Market Year</td>\n",
       "      <td>0.521</td>\n",
       "      <td>United States</td>\n",
       "    </tr>\n",
       "    <tr>\n",
       "      <td>...</td>\n",
       "      <td>...</td>\n",
       "      <td>...</td>\n",
       "      <td>...</td>\n",
       "      <td>...</td>\n",
       "      <td>...</td>\n",
       "      <td>...</td>\n",
       "      <td>...</td>\n",
       "      <td>...</td>\n",
       "      <td>...</td>\n",
       "    </tr>\n",
       "    <tr>\n",
       "      <td>36660</td>\n",
       "      <td>Oats</td>\n",
       "      <td>Prices</td>\n",
       "      <td>Prices received by farmers</td>\n",
       "      <td>Dollars per bushel</td>\n",
       "      <td>1946</td>\n",
       "      <td>Annual</td>\n",
       "      <td>Commodity Market Year</td>\n",
       "      <td>0.805</td>\n",
       "      <td>United States</td>\n",
       "    </tr>\n",
       "    <tr>\n",
       "      <td>36661</td>\n",
       "      <td>Oats</td>\n",
       "      <td>Prices</td>\n",
       "      <td>Prices received by farmers</td>\n",
       "      <td>Dollars per bushel</td>\n",
       "      <td>1947</td>\n",
       "      <td>Annual</td>\n",
       "      <td>Commodity Market Year</td>\n",
       "      <td>1.040</td>\n",
       "      <td>United States</td>\n",
       "    </tr>\n",
       "    <tr>\n",
       "      <td>37008</td>\n",
       "      <td>Oats</td>\n",
       "      <td>Supply and use</td>\n",
       "      <td>Harvested acreage</td>\n",
       "      <td>Million acres</td>\n",
       "      <td>2017</td>\n",
       "      <td>Annual</td>\n",
       "      <td>Commodity Market Year</td>\n",
       "      <td>0.804</td>\n",
       "      <td>United States</td>\n",
       "    </tr>\n",
       "    <tr>\n",
       "      <td>37009</td>\n",
       "      <td>Oats</td>\n",
       "      <td>Supply and use</td>\n",
       "      <td>Harvested acreage</td>\n",
       "      <td>Million acres</td>\n",
       "      <td>2018</td>\n",
       "      <td>Annual</td>\n",
       "      <td>Commodity Market Year</td>\n",
       "      <td>0.865</td>\n",
       "      <td>United States</td>\n",
       "    </tr>\n",
       "    <tr>\n",
       "      <td>37010</td>\n",
       "      <td>Oats</td>\n",
       "      <td>Supply and use</td>\n",
       "      <td>Harvested acreage</td>\n",
       "      <td>Million acres</td>\n",
       "      <td>2019</td>\n",
       "      <td>Annual</td>\n",
       "      <td>Commodity Market Year</td>\n",
       "      <td>0.909</td>\n",
       "      <td>United States</td>\n",
       "    </tr>\n",
       "  </tbody>\n",
       "</table>\n",
       "<p>5751 rows × 9 columns</p>\n",
       "</div>"
      ],
      "text/plain": [
       "      Commodity   SC_Group_Desc                   Attribute  \\\n",
       "0          Corn          Prices  Prices received by farmers   \n",
       "1          Corn          Prices  Prices received by farmers   \n",
       "2          Corn          Prices  Prices received by farmers   \n",
       "3          Corn          Prices  Prices received by farmers   \n",
       "4          Corn          Prices  Prices received by farmers   \n",
       "...         ...             ...                         ...   \n",
       "36660      Oats          Prices  Prices received by farmers   \n",
       "36661      Oats          Prices  Prices received by farmers   \n",
       "37008      Oats  Supply and use           Harvested acreage   \n",
       "37009      Oats  Supply and use           Harvested acreage   \n",
       "37010      Oats  Supply and use           Harvested acreage   \n",
       "\n",
       "                    Units  Year Frequency               YearType  Value  \\\n",
       "0      Dollars per bushel  1866    Annual  Commodity Market Year  0.657   \n",
       "1      Dollars per bushel  1867    Annual  Commodity Market Year  0.781   \n",
       "2      Dollars per bushel  1868    Annual  Commodity Market Year  0.617   \n",
       "3      Dollars per bushel  1869    Annual  Commodity Market Year  0.725   \n",
       "4      Dollars per bushel  1870    Annual  Commodity Market Year  0.521   \n",
       "...                   ...   ...       ...                    ...    ...   \n",
       "36660  Dollars per bushel  1946    Annual  Commodity Market Year  0.805   \n",
       "36661  Dollars per bushel  1947    Annual  Commodity Market Year  1.040   \n",
       "37008       Million acres  2017    Annual  Commodity Market Year  0.804   \n",
       "37009       Million acres  2018    Annual  Commodity Market Year  0.865   \n",
       "37010       Million acres  2019    Annual  Commodity Market Year  0.909   \n",
       "\n",
       "      SC_GeographyIndented_Desc  \n",
       "0                 United States  \n",
       "1                 United States  \n",
       "2                 United States  \n",
       "3                 United States  \n",
       "4                 United States  \n",
       "...                         ...  \n",
       "36660             United States  \n",
       "36661             United States  \n",
       "37008             United States  \n",
       "37009             United States  \n",
       "37010             United States  \n",
       "\n",
       "[5751 rows x 9 columns]"
      ]
     },
     "execution_count": 22,
     "metadata": {},
     "output_type": "execute_result"
    }
   ],
   "source": [
    "df_feed"
   ]
  },
  {
   "cell_type": "markdown",
   "metadata": {},
   "source": [
    "#### For annual visualization of the crops I saved each crop seperately into new dataframe because due to large difference between the values, the visualization was not clear."
   ]
  },
  {
   "cell_type": "code",
   "execution_count": 23,
   "metadata": {},
   "outputs": [],
   "source": [
    "df_corn=df_feed[df_feed['Commodity']=='Corn']"
   ]
  },
  {
   "cell_type": "code",
   "execution_count": 24,
   "metadata": {},
   "outputs": [
    {
     "data": {
      "text/html": [
       "<div>\n",
       "<style scoped>\n",
       "    .dataframe tbody tr th:only-of-type {\n",
       "        vertical-align: middle;\n",
       "    }\n",
       "\n",
       "    .dataframe tbody tr th {\n",
       "        vertical-align: top;\n",
       "    }\n",
       "\n",
       "    .dataframe thead th {\n",
       "        text-align: right;\n",
       "    }\n",
       "</style>\n",
       "<table border=\"1\" class=\"dataframe\">\n",
       "  <thead>\n",
       "    <tr style=\"text-align: right;\">\n",
       "      <th></th>\n",
       "      <th>Commodity</th>\n",
       "      <th>SC_Group_Desc</th>\n",
       "      <th>Attribute</th>\n",
       "      <th>Units</th>\n",
       "      <th>Year</th>\n",
       "      <th>Frequency</th>\n",
       "      <th>YearType</th>\n",
       "      <th>Value</th>\n",
       "      <th>SC_GeographyIndented_Desc</th>\n",
       "    </tr>\n",
       "  </thead>\n",
       "  <tbody>\n",
       "    <tr>\n",
       "      <td>0</td>\n",
       "      <td>Corn</td>\n",
       "      <td>Prices</td>\n",
       "      <td>Prices received by farmers</td>\n",
       "      <td>Dollars per bushel</td>\n",
       "      <td>1866</td>\n",
       "      <td>Annual</td>\n",
       "      <td>Commodity Market Year</td>\n",
       "      <td>0.657</td>\n",
       "      <td>United States</td>\n",
       "    </tr>\n",
       "    <tr>\n",
       "      <td>1</td>\n",
       "      <td>Corn</td>\n",
       "      <td>Prices</td>\n",
       "      <td>Prices received by farmers</td>\n",
       "      <td>Dollars per bushel</td>\n",
       "      <td>1867</td>\n",
       "      <td>Annual</td>\n",
       "      <td>Commodity Market Year</td>\n",
       "      <td>0.781</td>\n",
       "      <td>United States</td>\n",
       "    </tr>\n",
       "    <tr>\n",
       "      <td>2</td>\n",
       "      <td>Corn</td>\n",
       "      <td>Prices</td>\n",
       "      <td>Prices received by farmers</td>\n",
       "      <td>Dollars per bushel</td>\n",
       "      <td>1868</td>\n",
       "      <td>Annual</td>\n",
       "      <td>Commodity Market Year</td>\n",
       "      <td>0.617</td>\n",
       "      <td>United States</td>\n",
       "    </tr>\n",
       "    <tr>\n",
       "      <td>3</td>\n",
       "      <td>Corn</td>\n",
       "      <td>Prices</td>\n",
       "      <td>Prices received by farmers</td>\n",
       "      <td>Dollars per bushel</td>\n",
       "      <td>1869</td>\n",
       "      <td>Annual</td>\n",
       "      <td>Commodity Market Year</td>\n",
       "      <td>0.725</td>\n",
       "      <td>United States</td>\n",
       "    </tr>\n",
       "    <tr>\n",
       "      <td>4</td>\n",
       "      <td>Corn</td>\n",
       "      <td>Prices</td>\n",
       "      <td>Prices received by farmers</td>\n",
       "      <td>Dollars per bushel</td>\n",
       "      <td>1870</td>\n",
       "      <td>Annual</td>\n",
       "      <td>Commodity Market Year</td>\n",
       "      <td>0.521</td>\n",
       "      <td>United States</td>\n",
       "    </tr>\n",
       "    <tr>\n",
       "      <td>...</td>\n",
       "      <td>...</td>\n",
       "      <td>...</td>\n",
       "      <td>...</td>\n",
       "      <td>...</td>\n",
       "      <td>...</td>\n",
       "      <td>...</td>\n",
       "      <td>...</td>\n",
       "      <td>...</td>\n",
       "      <td>...</td>\n",
       "    </tr>\n",
       "    <tr>\n",
       "      <td>12476</td>\n",
       "      <td>Corn</td>\n",
       "      <td>Supply and use</td>\n",
       "      <td>Commercial stocks</td>\n",
       "      <td>Million bushels</td>\n",
       "      <td>2015</td>\n",
       "      <td>Annual</td>\n",
       "      <td>MY Sep-Aug</td>\n",
       "      <td>1737.058</td>\n",
       "      <td>United States</td>\n",
       "    </tr>\n",
       "    <tr>\n",
       "      <td>12477</td>\n",
       "      <td>Corn</td>\n",
       "      <td>Supply and use</td>\n",
       "      <td>Commercial stocks</td>\n",
       "      <td>Million bushels</td>\n",
       "      <td>2016</td>\n",
       "      <td>Annual</td>\n",
       "      <td>MY Sep-Aug</td>\n",
       "      <td>2293.303</td>\n",
       "      <td>United States</td>\n",
       "    </tr>\n",
       "    <tr>\n",
       "      <td>12478</td>\n",
       "      <td>Corn</td>\n",
       "      <td>Supply and use</td>\n",
       "      <td>Commercial stocks</td>\n",
       "      <td>Million bushels</td>\n",
       "      <td>2017</td>\n",
       "      <td>Annual</td>\n",
       "      <td>MY Sep-Aug</td>\n",
       "      <td>2140.335</td>\n",
       "      <td>United States</td>\n",
       "    </tr>\n",
       "    <tr>\n",
       "      <td>12479</td>\n",
       "      <td>Corn</td>\n",
       "      <td>Supply and use</td>\n",
       "      <td>Commercial stocks</td>\n",
       "      <td>Million bushels</td>\n",
       "      <td>2018</td>\n",
       "      <td>Annual</td>\n",
       "      <td>MY Sep-Aug</td>\n",
       "      <td>2095.436</td>\n",
       "      <td>United States</td>\n",
       "    </tr>\n",
       "    <tr>\n",
       "      <td>12480</td>\n",
       "      <td>Corn</td>\n",
       "      <td>Supply and use</td>\n",
       "      <td>Commercial stocks</td>\n",
       "      <td>Million bushels</td>\n",
       "      <td>2019</td>\n",
       "      <td>Annual</td>\n",
       "      <td>MY Sep-Aug</td>\n",
       "      <td>2485.436</td>\n",
       "      <td>United States</td>\n",
       "    </tr>\n",
       "  </tbody>\n",
       "</table>\n",
       "<p>1743 rows × 9 columns</p>\n",
       "</div>"
      ],
      "text/plain": [
       "      Commodity   SC_Group_Desc                   Attribute  \\\n",
       "0          Corn          Prices  Prices received by farmers   \n",
       "1          Corn          Prices  Prices received by farmers   \n",
       "2          Corn          Prices  Prices received by farmers   \n",
       "3          Corn          Prices  Prices received by farmers   \n",
       "4          Corn          Prices  Prices received by farmers   \n",
       "...         ...             ...                         ...   \n",
       "12476      Corn  Supply and use           Commercial stocks   \n",
       "12477      Corn  Supply and use           Commercial stocks   \n",
       "12478      Corn  Supply and use           Commercial stocks   \n",
       "12479      Corn  Supply and use           Commercial stocks   \n",
       "12480      Corn  Supply and use           Commercial stocks   \n",
       "\n",
       "                    Units  Year Frequency               YearType     Value  \\\n",
       "0      Dollars per bushel  1866    Annual  Commodity Market Year     0.657   \n",
       "1      Dollars per bushel  1867    Annual  Commodity Market Year     0.781   \n",
       "2      Dollars per bushel  1868    Annual  Commodity Market Year     0.617   \n",
       "3      Dollars per bushel  1869    Annual  Commodity Market Year     0.725   \n",
       "4      Dollars per bushel  1870    Annual  Commodity Market Year     0.521   \n",
       "...                   ...   ...       ...                    ...       ...   \n",
       "12476     Million bushels  2015    Annual             MY Sep-Aug  1737.058   \n",
       "12477     Million bushels  2016    Annual             MY Sep-Aug  2293.303   \n",
       "12478     Million bushels  2017    Annual             MY Sep-Aug  2140.335   \n",
       "12479     Million bushels  2018    Annual             MY Sep-Aug  2095.436   \n",
       "12480     Million bushels  2019    Annual             MY Sep-Aug  2485.436   \n",
       "\n",
       "      SC_GeographyIndented_Desc  \n",
       "0                 United States  \n",
       "1                 United States  \n",
       "2                 United States  \n",
       "3                 United States  \n",
       "4                 United States  \n",
       "...                         ...  \n",
       "12476             United States  \n",
       "12477             United States  \n",
       "12478             United States  \n",
       "12479             United States  \n",
       "12480             United States  \n",
       "\n",
       "[1743 rows x 9 columns]"
      ]
     },
     "execution_count": 24,
     "metadata": {},
     "output_type": "execute_result"
    }
   ],
   "source": [
    "df_corn"
   ]
  },
  {
   "cell_type": "code",
   "execution_count": 25,
   "metadata": {},
   "outputs": [],
   "source": [
    "df_sor=df_feed[df_feed['Commodity']=='Sorghum']"
   ]
  },
  {
   "cell_type": "code",
   "execution_count": 26,
   "metadata": {},
   "outputs": [],
   "source": [
    "df_oats=df_feed[df_feed['Commodity']=='Oats']"
   ]
  },
  {
   "cell_type": "code",
   "execution_count": 27,
   "metadata": {},
   "outputs": [],
   "source": [
    "df_b=df_feed[df_feed['Commodity']=='Barley']"
   ]
  },
  {
   "cell_type": "markdown",
   "metadata": {},
   "source": [
    "graph to show that single graph is not enough to answer my question."
   ]
  },
  {
   "cell_type": "code",
   "execution_count": 28,
   "metadata": {},
   "outputs": [
    {
     "data": {
      "image/png": "[encoded data removed]",
      "text/plain": [
       "<Figure size 432x288 with 1 Axes>"
      ]
     },
     "metadata": {
      "needs_background": "light"
     },
     "output_type": "display_data"
    }
   ],
   "source": [
    "this_plot=sns.lineplot(df_feed['Year'], df_feed['Value'], hue=df_feed['Commodity'], n_boot=1000)"
   ]
  },
  {
   "cell_type": "markdown",
   "metadata": {},
   "source": [
    "There are alot of values near to zero and few near to big numbers as there are many different data in attribute column like: prices received by farmers, export, import, etc, therefore they have different range some of them lie in low range whereas, other have high range values."
   ]
  },
  {
   "cell_type": "code",
   "execution_count": 29,
   "metadata": {},
   "outputs": [
    {
     "data": {
      "text/plain": [
       "Prices received by farmers                     154\n",
       "Yield per harvested acre                       154\n",
       "Production                                     154\n",
       "Harvested acreage                              154\n",
       "Commercial stocks                               94\n",
       "Planted acreage                                 94\n",
       "Feed and residual use                           90\n",
       "Exports, trade year                             60\n",
       "Imports, trade year                             60\n",
       "Total disappearance                             45\n",
       "Ending stocks                                   45\n",
       "Seed use                                        45\n",
       "Imports, market year                            45\n",
       "Food, alcohol, and industrial use               45\n",
       "Total domestic use                              45\n",
       "Total supply                                    45\n",
       "Exports, market year                            45\n",
       "Beginning stocks                                45\n",
       "CCC-owned inventory (stocks)                    44\n",
       "Glucose and dextrose use                        40\n",
       "Food, seed, and industrial use                  40\n",
       "Alcohol for fuel use                            40\n",
       "Cereal and other product use                    40\n",
       "Alcohol for beverages and manufacturing use     40\n",
       "High-fructose corn syrup (HFCS) use             40\n",
       "Starch use                                      40\n",
       "Name: Attribute, dtype: int64"
      ]
     },
     "execution_count": 29,
     "metadata": {},
     "output_type": "execute_result"
    }
   ],
   "source": [
    "df_corn['Attribute'].value_counts()"
   ]
  },
  {
   "cell_type": "markdown",
   "metadata": {},
   "source": [
    "##### jointplot shows scatter plot and also visualize the scattered data through bar plot, each axis has a bar plot over it, which shows the density of scttered data."
   ]
  },
  {
   "cell_type": "code",
   "execution_count": 30,
   "metadata": {},
   "outputs": [
    {
     "data": {
      "text/plain": [
       "<seaborn.axisgrid.JointGrid at 0x7effa38707b8>"
      ]
     },
     "execution_count": 30,
     "metadata": {},
     "output_type": "execute_result"
    },
    {
     "data": {
      "image/png": "[encoded data removed]",
      "text/plain": [
       "<Figure size 432x432 with 3 Axes>"
      ]
     },
     "metadata": {
      "needs_background": "light"
     },
     "output_type": "display_data"
    }
   ],
   "source": [
    "sns.jointplot('Year', 'Value', data=df_corn)"
   ]
  },
  {
   "cell_type": "code",
   "execution_count": 31,
   "metadata": {},
   "outputs": [
    {
     "data": {
      "text/html": [
       "<div>\n",
       "<style scoped>\n",
       "    .dataframe tbody tr th:only-of-type {\n",
       "        vertical-align: middle;\n",
       "    }\n",
       "\n",
       "    .dataframe tbody tr th {\n",
       "        vertical-align: top;\n",
       "    }\n",
       "\n",
       "    .dataframe thead th {\n",
       "        text-align: right;\n",
       "    }\n",
       "</style>\n",
       "<table border=\"1\" class=\"dataframe\">\n",
       "  <thead>\n",
       "    <tr style=\"text-align: right;\">\n",
       "      <th></th>\n",
       "      <th>Year</th>\n",
       "      <th>Value</th>\n",
       "    </tr>\n",
       "  </thead>\n",
       "  <tbody>\n",
       "    <tr>\n",
       "      <td>count</td>\n",
       "      <td>26.0</td>\n",
       "      <td>26.000000</td>\n",
       "    </tr>\n",
       "    <tr>\n",
       "      <td>mean</td>\n",
       "      <td>2019.0</td>\n",
       "      <td>10744.314319</td>\n",
       "    </tr>\n",
       "    <tr>\n",
       "      <td>std</td>\n",
       "      <td>0.0</td>\n",
       "      <td>27038.649195</td>\n",
       "    </tr>\n",
       "    <tr>\n",
       "      <td>min</td>\n",
       "      <td>2019.0</td>\n",
       "      <td>3.600000</td>\n",
       "    </tr>\n",
       "    <tr>\n",
       "      <td>25%</td>\n",
       "      <td>2019.0</td>\n",
       "      <td>179.685550</td>\n",
       "    </tr>\n",
       "    <tr>\n",
       "      <td>50%</td>\n",
       "      <td>2019.0</td>\n",
       "      <td>2119.793500</td>\n",
       "    </tr>\n",
       "    <tr>\n",
       "      <td>75%</td>\n",
       "      <td>2019.0</td>\n",
       "      <td>6871.750000</td>\n",
       "    </tr>\n",
       "    <tr>\n",
       "      <td>max</td>\n",
       "      <td>2019.0</td>\n",
       "      <td>131451.105904</td>\n",
       "    </tr>\n",
       "  </tbody>\n",
       "</table>\n",
       "</div>"
      ],
      "text/plain": [
       "         Year          Value\n",
       "count    26.0      26.000000\n",
       "mean   2019.0   10744.314319\n",
       "std       0.0   27038.649195\n",
       "min    2019.0       3.600000\n",
       "25%    2019.0     179.685550\n",
       "50%    2019.0    2119.793500\n",
       "75%    2019.0    6871.750000\n",
       "max    2019.0  131451.105904"
      ]
     },
     "execution_count": 31,
     "metadata": {},
     "output_type": "execute_result"
    }
   ],
   "source": [
    "df_corn[(df_corn['Year']==2019)].describe()"
   ]
  },
  {
   "cell_type": "code",
   "execution_count": 32,
   "metadata": {},
   "outputs": [
    {
     "data": {
      "text/plain": [
       "Year     0.000000e+00\n",
       "Value    7.029698e+08\n",
       "dtype: float64"
      ]
     },
     "execution_count": 32,
     "metadata": {},
     "output_type": "execute_result"
    }
   ],
   "source": [
    "np.var(df_corn[(df_corn['Year']==2019)])"
   ]
  },
  {
   "cell_type": "raw",
   "metadata": {},
   "source": [
    "Value: 7.029698e+08 = approximately 21,000"
   ]
  },
  {
   "cell_type": "markdown",
   "metadata": {},
   "source": [
    "### Question asked from the dataset:\n",
    "####  how the prices of crops in the feedgrain dataset like: barley, oats, corns and sorghum varies anually over the years."
   ]
  },
  {
   "cell_type": "markdown",
   "metadata": {},
   "source": [
    "##### Rise in the values of crops over the years using seaborn barplot"
   ]
  },
  {
   "cell_type": "code",
   "execution_count": 33,
   "metadata": {},
   "outputs": [
    {
     "name": "stderr",
     "output_type": "stream",
     "text": [
      "/home/shouray/.local/lib/python3.6/site-packages/ipykernel_launcher.py:3: SettingWithCopyWarning: \n",
      "A value is trying to be set on a copy of a slice from a DataFrame.\n",
      "Try using .loc[row_indexer,col_indexer] = value instead\n",
      "\n",
      "See the caveats in the documentation: http://pandas.pydata.org/pandas-docs/stable/user_guide/indexing.html#returning-a-view-versus-a-copy\n",
      "  This is separate from the ipykernel package so we can avoid doing imports until\n"
     ]
    },
    {
     "data": {
      "image/png": "[encoded data removed]",
      "text/plain": [
       "<Figure size 1512x648 with 1 Axes>"
      ]
     },
     "metadata": {},
     "output_type": "display_data"
    }
   ],
   "source": [
    "import seaborn as sns\n",
    "sns.set(rc={'figure.figsize':(21,9)})\n",
    "df_corn['Year']=df_corn['Year'].astype(int)\n",
    "this_plot=sns.barplot(df_corn['Year'], df_corn['Value'], n_boot=1000)\n",
    "this_plot.set_xticklabels(this_plot.get_xticklabels(), rotation=90)\n",
    "sns.set(rc={'figure.figsize':(11.7,8.27)})\n",
    "#sns.plt.xlim(1850, 2050)\n"
   ]
  },
  {
   "cell_type": "code",
   "execution_count": 34,
   "metadata": {},
   "outputs": [
    {
     "data": {
      "image/png": "[encoded data removed]",
      "text/plain": [
       "<Figure size 842.4x595.44 with 1 Axes>"
      ]
     },
     "metadata": {},
     "output_type": "display_data"
    }
   ],
   "source": [
    "this_plot=sns.lineplot(df_sor['Year'], df_sor['Value'], n_boot=1000)"
   ]
  },
  {
   "cell_type": "code",
   "execution_count": 35,
   "metadata": {},
   "outputs": [
    {
     "data": {
      "image/png": "[encoded data removed]",
      "text/plain": [
       "<Figure size 842.4x595.44 with 1 Axes>"
      ]
     },
     "metadata": {},
     "output_type": "display_data"
    }
   ],
   "source": [
    "this_plot=sns.lineplot(df_b['Year'], df_b['Value'], n_boot=1000)"
   ]
  },
  {
   "cell_type": "code",
   "execution_count": 36,
   "metadata": {},
   "outputs": [
    {
     "data": {
      "image/png": "[encoded data removed]",
      "text/plain": [
       "<Figure size 842.4x595.44 with 1 Axes>"
      ]
     },
     "metadata": {},
     "output_type": "display_data"
    }
   ],
   "source": [
    "this_plot=sns.lineplot(df_oats['Year'], df_oats['Value'], n_boot=1000)"
   ]
  },
  {
   "cell_type": "markdown",
   "metadata": {},
   "source": [
    "##### These visualization answers the question as we can see that in corn data the value constantly increases but in other crops the values increase till early 90s then drops."
   ]
  },
  {
   "cell_type": "markdown",
   "metadata": {},
   "source": [
    "#### Concatenate the dataframes so that we can jump on to the Hypothesis."
   ]
  },
  {
   "cell_type": "code",
   "execution_count": 37,
   "metadata": {},
   "outputs": [
    {
     "name": "stderr",
     "output_type": "stream",
     "text": [
      "/home/shouray/.local/lib/python3.6/site-packages/ipykernel_launcher.py:1: FutureWarning: Sorting because non-concatenation axis is not aligned. A future version\n",
      "of pandas will change to not sort by default.\n",
      "\n",
      "To accept the future behavior, pass 'sort=False'.\n",
      "\n",
      "To retain the current behavior and silence the warning, pass 'sort=True'.\n",
      "\n",
      "  \"\"\"Entry point for launching an IPython kernel.\n"
     ]
    }
   ],
   "source": [
    "df=pd.concat([df_feed, df_projection])"
   ]
  },
  {
   "cell_type": "code",
   "execution_count": 38,
   "metadata": {},
   "outputs": [
    {
     "data": {
      "text/html": [
       "<div>\n",
       "<style scoped>\n",
       "    .dataframe tbody tr th:only-of-type {\n",
       "        vertical-align: middle;\n",
       "    }\n",
       "\n",
       "    .dataframe tbody tr th {\n",
       "        vertical-align: top;\n",
       "    }\n",
       "\n",
       "    .dataframe thead th {\n",
       "        text-align: right;\n",
       "    }\n",
       "</style>\n",
       "<table border=\"1\" class=\"dataframe\">\n",
       "  <thead>\n",
       "    <tr style=\"text-align: right;\">\n",
       "      <th></th>\n",
       "      <th>Attribute</th>\n",
       "      <th>Commodity</th>\n",
       "      <th>CommodityType</th>\n",
       "      <th>Frequency</th>\n",
       "      <th>SC_GeographyIndented_Desc</th>\n",
       "      <th>SC_Group_Desc</th>\n",
       "      <th>Units</th>\n",
       "      <th>Value</th>\n",
       "      <th>Year</th>\n",
       "      <th>YearType</th>\n",
       "    </tr>\n",
       "  </thead>\n",
       "  <tbody>\n",
       "    <tr>\n",
       "      <td>0</td>\n",
       "      <td>Prices received by farmers</td>\n",
       "      <td>Corn</td>\n",
       "      <td>NaN</td>\n",
       "      <td>Annual</td>\n",
       "      <td>United States</td>\n",
       "      <td>Prices</td>\n",
       "      <td>Dollars per bushel</td>\n",
       "      <td>0.657</td>\n",
       "      <td>1866</td>\n",
       "      <td>Commodity Market Year</td>\n",
       "    </tr>\n",
       "    <tr>\n",
       "      <td>1</td>\n",
       "      <td>Prices received by farmers</td>\n",
       "      <td>Corn</td>\n",
       "      <td>NaN</td>\n",
       "      <td>Annual</td>\n",
       "      <td>United States</td>\n",
       "      <td>Prices</td>\n",
       "      <td>Dollars per bushel</td>\n",
       "      <td>0.781</td>\n",
       "      <td>1867</td>\n",
       "      <td>Commodity Market Year</td>\n",
       "    </tr>\n",
       "    <tr>\n",
       "      <td>2</td>\n",
       "      <td>Prices received by farmers</td>\n",
       "      <td>Corn</td>\n",
       "      <td>NaN</td>\n",
       "      <td>Annual</td>\n",
       "      <td>United States</td>\n",
       "      <td>Prices</td>\n",
       "      <td>Dollars per bushel</td>\n",
       "      <td>0.617</td>\n",
       "      <td>1868</td>\n",
       "      <td>Commodity Market Year</td>\n",
       "    </tr>\n",
       "    <tr>\n",
       "      <td>3</td>\n",
       "      <td>Prices received by farmers</td>\n",
       "      <td>Corn</td>\n",
       "      <td>NaN</td>\n",
       "      <td>Annual</td>\n",
       "      <td>United States</td>\n",
       "      <td>Prices</td>\n",
       "      <td>Dollars per bushel</td>\n",
       "      <td>0.725</td>\n",
       "      <td>1869</td>\n",
       "      <td>Commodity Market Year</td>\n",
       "    </tr>\n",
       "    <tr>\n",
       "      <td>4</td>\n",
       "      <td>Prices received by farmers</td>\n",
       "      <td>Corn</td>\n",
       "      <td>NaN</td>\n",
       "      <td>Annual</td>\n",
       "      <td>United States</td>\n",
       "      <td>Prices</td>\n",
       "      <td>Dollars per bushel</td>\n",
       "      <td>0.521</td>\n",
       "      <td>1870</td>\n",
       "      <td>Commodity Market Year</td>\n",
       "    </tr>\n",
       "    <tr>\n",
       "      <td>...</td>\n",
       "      <td>...</td>\n",
       "      <td>...</td>\n",
       "      <td>...</td>\n",
       "      <td>...</td>\n",
       "      <td>...</td>\n",
       "      <td>...</td>\n",
       "      <td>...</td>\n",
       "      <td>...</td>\n",
       "      <td>...</td>\n",
       "      <td>...</td>\n",
       "    </tr>\n",
       "    <tr>\n",
       "      <td>919</td>\n",
       "      <td>Yield/harvested acre</td>\n",
       "      <td>Oats</td>\n",
       "      <td>Crops</td>\n",
       "      <td>NaN</td>\n",
       "      <td>NaN</td>\n",
       "      <td>NaN</td>\n",
       "      <td>Bushels per acre</td>\n",
       "      <td>68.000</td>\n",
       "      <td>2024/25</td>\n",
       "      <td>Commodity Market Year</td>\n",
       "    </tr>\n",
       "    <tr>\n",
       "      <td>920</td>\n",
       "      <td>Yield/harvested acre</td>\n",
       "      <td>Oats</td>\n",
       "      <td>Crops</td>\n",
       "      <td>NaN</td>\n",
       "      <td>NaN</td>\n",
       "      <td>NaN</td>\n",
       "      <td>Bushels per acre</td>\n",
       "      <td>68.400</td>\n",
       "      <td>2025/26</td>\n",
       "      <td>Commodity Market Year</td>\n",
       "    </tr>\n",
       "    <tr>\n",
       "      <td>921</td>\n",
       "      <td>Yield/harvested acre</td>\n",
       "      <td>Oats</td>\n",
       "      <td>Crops</td>\n",
       "      <td>NaN</td>\n",
       "      <td>NaN</td>\n",
       "      <td>NaN</td>\n",
       "      <td>Bushels per acre</td>\n",
       "      <td>68.700</td>\n",
       "      <td>2026/27</td>\n",
       "      <td>Commodity Market Year</td>\n",
       "    </tr>\n",
       "    <tr>\n",
       "      <td>922</td>\n",
       "      <td>Yield/harvested acre</td>\n",
       "      <td>Oats</td>\n",
       "      <td>Crops</td>\n",
       "      <td>NaN</td>\n",
       "      <td>NaN</td>\n",
       "      <td>NaN</td>\n",
       "      <td>Bushels per acre</td>\n",
       "      <td>69.000</td>\n",
       "      <td>2027/28</td>\n",
       "      <td>Commodity Market Year</td>\n",
       "    </tr>\n",
       "    <tr>\n",
       "      <td>923</td>\n",
       "      <td>Yield/harvested acre</td>\n",
       "      <td>Oats</td>\n",
       "      <td>Crops</td>\n",
       "      <td>NaN</td>\n",
       "      <td>NaN</td>\n",
       "      <td>NaN</td>\n",
       "      <td>Bushels per acre</td>\n",
       "      <td>69.400</td>\n",
       "      <td>2028/29</td>\n",
       "      <td>Commodity Market Year</td>\n",
       "    </tr>\n",
       "  </tbody>\n",
       "</table>\n",
       "<p>6675 rows × 10 columns</p>\n",
       "</div>"
      ],
      "text/plain": [
       "                      Attribute Commodity CommodityType Frequency  \\\n",
       "0    Prices received by farmers      Corn           NaN    Annual   \n",
       "1    Prices received by farmers      Corn           NaN    Annual   \n",
       "2    Prices received by farmers      Corn           NaN    Annual   \n",
       "3    Prices received by farmers      Corn           NaN    Annual   \n",
       "4    Prices received by farmers      Corn           NaN    Annual   \n",
       "..                          ...       ...           ...       ...   \n",
       "919        Yield/harvested acre      Oats         Crops       NaN   \n",
       "920        Yield/harvested acre      Oats         Crops       NaN   \n",
       "921        Yield/harvested acre      Oats         Crops       NaN   \n",
       "922        Yield/harvested acre      Oats         Crops       NaN   \n",
       "923        Yield/harvested acre      Oats         Crops       NaN   \n",
       "\n",
       "    SC_GeographyIndented_Desc SC_Group_Desc               Units   Value  \\\n",
       "0               United States        Prices  Dollars per bushel   0.657   \n",
       "1               United States        Prices  Dollars per bushel   0.781   \n",
       "2               United States        Prices  Dollars per bushel   0.617   \n",
       "3               United States        Prices  Dollars per bushel   0.725   \n",
       "4               United States        Prices  Dollars per bushel   0.521   \n",
       "..                        ...           ...                 ...     ...   \n",
       "919                       NaN           NaN    Bushels per acre  68.000   \n",
       "920                       NaN           NaN    Bushels per acre  68.400   \n",
       "921                       NaN           NaN    Bushels per acre  68.700   \n",
       "922                       NaN           NaN    Bushels per acre  69.000   \n",
       "923                       NaN           NaN    Bushels per acre  69.400   \n",
       "\n",
       "        Year               YearType  \n",
       "0       1866  Commodity Market Year  \n",
       "1       1867  Commodity Market Year  \n",
       "2       1868  Commodity Market Year  \n",
       "3       1869  Commodity Market Year  \n",
       "4       1870  Commodity Market Year  \n",
       "..       ...                    ...  \n",
       "919  2024/25  Commodity Market Year  \n",
       "920  2025/26  Commodity Market Year  \n",
       "921  2026/27  Commodity Market Year  \n",
       "922  2027/28  Commodity Market Year  \n",
       "923  2028/29  Commodity Market Year  \n",
       "\n",
       "[6675 rows x 10 columns]"
      ]
     },
     "execution_count": 38,
     "metadata": {},
     "output_type": "execute_result"
    }
   ],
   "source": [
    "df"
   ]
  },
  {
   "cell_type": "markdown",
   "metadata": {},
   "source": [
    "### Drop Columns"
   ]
  },
  {
   "cell_type": "markdown",
   "metadata": {},
   "source": [
    "##### 1. Commodity Type: only tells that the data that we are using is crop, however we can figure that if we come across the data. Therefore, applying human analytics we can delete this row.\n",
    "##### 2. Frequency: Only present in df_feed dataset and depicts that crops prices are measured annually, however, that is understandable if we look at the YearType column which has 'Commodity Market Year' as row data which clearly speaks that crops are measured annually."
   ]
  },
  {
   "cell_type": "code",
   "execution_count": 39,
   "metadata": {},
   "outputs": [],
   "source": [
    "df=df.drop(columns=(['Frequency', 'CommodityType']))"
   ]
  },
  {
   "cell_type": "code",
   "execution_count": 40,
   "metadata": {},
   "outputs": [
    {
     "data": {
      "text/html": [
       "<div>\n",
       "<style scoped>\n",
       "    .dataframe tbody tr th:only-of-type {\n",
       "        vertical-align: middle;\n",
       "    }\n",
       "\n",
       "    .dataframe tbody tr th {\n",
       "        vertical-align: top;\n",
       "    }\n",
       "\n",
       "    .dataframe thead th {\n",
       "        text-align: right;\n",
       "    }\n",
       "</style>\n",
       "<table border=\"1\" class=\"dataframe\">\n",
       "  <thead>\n",
       "    <tr style=\"text-align: right;\">\n",
       "      <th></th>\n",
       "      <th>Attribute</th>\n",
       "      <th>Commodity</th>\n",
       "      <th>SC_GeographyIndented_Desc</th>\n",
       "      <th>SC_Group_Desc</th>\n",
       "      <th>Units</th>\n",
       "      <th>Value</th>\n",
       "      <th>Year</th>\n",
       "      <th>YearType</th>\n",
       "    </tr>\n",
       "  </thead>\n",
       "  <tbody>\n",
       "    <tr>\n",
       "      <td>0</td>\n",
       "      <td>Prices received by farmers</td>\n",
       "      <td>Corn</td>\n",
       "      <td>United States</td>\n",
       "      <td>Prices</td>\n",
       "      <td>Dollars per bushel</td>\n",
       "      <td>0.657</td>\n",
       "      <td>1866</td>\n",
       "      <td>Commodity Market Year</td>\n",
       "    </tr>\n",
       "    <tr>\n",
       "      <td>1</td>\n",
       "      <td>Prices received by farmers</td>\n",
       "      <td>Corn</td>\n",
       "      <td>United States</td>\n",
       "      <td>Prices</td>\n",
       "      <td>Dollars per bushel</td>\n",
       "      <td>0.781</td>\n",
       "      <td>1867</td>\n",
       "      <td>Commodity Market Year</td>\n",
       "    </tr>\n",
       "    <tr>\n",
       "      <td>2</td>\n",
       "      <td>Prices received by farmers</td>\n",
       "      <td>Corn</td>\n",
       "      <td>United States</td>\n",
       "      <td>Prices</td>\n",
       "      <td>Dollars per bushel</td>\n",
       "      <td>0.617</td>\n",
       "      <td>1868</td>\n",
       "      <td>Commodity Market Year</td>\n",
       "    </tr>\n",
       "    <tr>\n",
       "      <td>3</td>\n",
       "      <td>Prices received by farmers</td>\n",
       "      <td>Corn</td>\n",
       "      <td>United States</td>\n",
       "      <td>Prices</td>\n",
       "      <td>Dollars per bushel</td>\n",
       "      <td>0.725</td>\n",
       "      <td>1869</td>\n",
       "      <td>Commodity Market Year</td>\n",
       "    </tr>\n",
       "    <tr>\n",
       "      <td>4</td>\n",
       "      <td>Prices received by farmers</td>\n",
       "      <td>Corn</td>\n",
       "      <td>United States</td>\n",
       "      <td>Prices</td>\n",
       "      <td>Dollars per bushel</td>\n",
       "      <td>0.521</td>\n",
       "      <td>1870</td>\n",
       "      <td>Commodity Market Year</td>\n",
       "    </tr>\n",
       "    <tr>\n",
       "      <td>...</td>\n",
       "      <td>...</td>\n",
       "      <td>...</td>\n",
       "      <td>...</td>\n",
       "      <td>...</td>\n",
       "      <td>...</td>\n",
       "      <td>...</td>\n",
       "      <td>...</td>\n",
       "      <td>...</td>\n",
       "    </tr>\n",
       "    <tr>\n",
       "      <td>919</td>\n",
       "      <td>Yield/harvested acre</td>\n",
       "      <td>Oats</td>\n",
       "      <td>NaN</td>\n",
       "      <td>NaN</td>\n",
       "      <td>Bushels per acre</td>\n",
       "      <td>68.000</td>\n",
       "      <td>2024/25</td>\n",
       "      <td>Commodity Market Year</td>\n",
       "    </tr>\n",
       "    <tr>\n",
       "      <td>920</td>\n",
       "      <td>Yield/harvested acre</td>\n",
       "      <td>Oats</td>\n",
       "      <td>NaN</td>\n",
       "      <td>NaN</td>\n",
       "      <td>Bushels per acre</td>\n",
       "      <td>68.400</td>\n",
       "      <td>2025/26</td>\n",
       "      <td>Commodity Market Year</td>\n",
       "    </tr>\n",
       "    <tr>\n",
       "      <td>921</td>\n",
       "      <td>Yield/harvested acre</td>\n",
       "      <td>Oats</td>\n",
       "      <td>NaN</td>\n",
       "      <td>NaN</td>\n",
       "      <td>Bushels per acre</td>\n",
       "      <td>68.700</td>\n",
       "      <td>2026/27</td>\n",
       "      <td>Commodity Market Year</td>\n",
       "    </tr>\n",
       "    <tr>\n",
       "      <td>922</td>\n",
       "      <td>Yield/harvested acre</td>\n",
       "      <td>Oats</td>\n",
       "      <td>NaN</td>\n",
       "      <td>NaN</td>\n",
       "      <td>Bushels per acre</td>\n",
       "      <td>69.000</td>\n",
       "      <td>2027/28</td>\n",
       "      <td>Commodity Market Year</td>\n",
       "    </tr>\n",
       "    <tr>\n",
       "      <td>923</td>\n",
       "      <td>Yield/harvested acre</td>\n",
       "      <td>Oats</td>\n",
       "      <td>NaN</td>\n",
       "      <td>NaN</td>\n",
       "      <td>Bushels per acre</td>\n",
       "      <td>69.400</td>\n",
       "      <td>2028/29</td>\n",
       "      <td>Commodity Market Year</td>\n",
       "    </tr>\n",
       "  </tbody>\n",
       "</table>\n",
       "<p>6675 rows × 8 columns</p>\n",
       "</div>"
      ],
      "text/plain": [
       "                      Attribute Commodity SC_GeographyIndented_Desc  \\\n",
       "0    Prices received by farmers      Corn             United States   \n",
       "1    Prices received by farmers      Corn             United States   \n",
       "2    Prices received by farmers      Corn             United States   \n",
       "3    Prices received by farmers      Corn             United States   \n",
       "4    Prices received by farmers      Corn             United States   \n",
       "..                          ...       ...                       ...   \n",
       "919        Yield/harvested acre      Oats                       NaN   \n",
       "920        Yield/harvested acre      Oats                       NaN   \n",
       "921        Yield/harvested acre      Oats                       NaN   \n",
       "922        Yield/harvested acre      Oats                       NaN   \n",
       "923        Yield/harvested acre      Oats                       NaN   \n",
       "\n",
       "    SC_Group_Desc               Units   Value     Year               YearType  \n",
       "0          Prices  Dollars per bushel   0.657     1866  Commodity Market Year  \n",
       "1          Prices  Dollars per bushel   0.781     1867  Commodity Market Year  \n",
       "2          Prices  Dollars per bushel   0.617     1868  Commodity Market Year  \n",
       "3          Prices  Dollars per bushel   0.725     1869  Commodity Market Year  \n",
       "4          Prices  Dollars per bushel   0.521     1870  Commodity Market Year  \n",
       "..            ...                 ...     ...      ...                    ...  \n",
       "919           NaN    Bushels per acre  68.000  2024/25  Commodity Market Year  \n",
       "920           NaN    Bushels per acre  68.400  2025/26  Commodity Market Year  \n",
       "921           NaN    Bushels per acre  68.700  2026/27  Commodity Market Year  \n",
       "922           NaN    Bushels per acre  69.000  2027/28  Commodity Market Year  \n",
       "923           NaN    Bushels per acre  69.400  2028/29  Commodity Market Year  \n",
       "\n",
       "[6675 rows x 8 columns]"
      ]
     },
     "execution_count": 40,
     "metadata": {},
     "output_type": "execute_result"
    }
   ],
   "source": [
    "df"
   ]
  },
  {
   "cell_type": "code",
   "execution_count": 41,
   "metadata": {},
   "outputs": [
    {
     "data": {
      "text/html": [
       "<div>\n",
       "<style scoped>\n",
       "    .dataframe tbody tr th:only-of-type {\n",
       "        vertical-align: middle;\n",
       "    }\n",
       "\n",
       "    .dataframe tbody tr th {\n",
       "        vertical-align: top;\n",
       "    }\n",
       "\n",
       "    .dataframe thead th {\n",
       "        text-align: right;\n",
       "    }\n",
       "</style>\n",
       "<table border=\"1\" class=\"dataframe\">\n",
       "  <thead>\n",
       "    <tr style=\"text-align: right;\">\n",
       "      <th></th>\n",
       "      <th>Attribute</th>\n",
       "      <th>Commodity</th>\n",
       "      <th>SC_GeographyIndented_Desc</th>\n",
       "      <th>SC_Group_Desc</th>\n",
       "      <th>Units</th>\n",
       "      <th>Value</th>\n",
       "      <th>Year</th>\n",
       "      <th>YearType</th>\n",
       "    </tr>\n",
       "  </thead>\n",
       "  <tbody>\n",
       "    <tr>\n",
       "      <td>191</td>\n",
       "      <td>Yield per harvested acre</td>\n",
       "      <td>Corn</td>\n",
       "      <td>United States</td>\n",
       "      <td>Supply and use</td>\n",
       "      <td>Bushels per acre</td>\n",
       "      <td>24.3</td>\n",
       "      <td>1866</td>\n",
       "      <td>Commodity Market Year</td>\n",
       "    </tr>\n",
       "    <tr>\n",
       "      <td>192</td>\n",
       "      <td>Yield per harvested acre</td>\n",
       "      <td>Corn</td>\n",
       "      <td>United States</td>\n",
       "      <td>Supply and use</td>\n",
       "      <td>Bushels per acre</td>\n",
       "      <td>24.7</td>\n",
       "      <td>1867</td>\n",
       "      <td>Commodity Market Year</td>\n",
       "    </tr>\n",
       "    <tr>\n",
       "      <td>193</td>\n",
       "      <td>Yield per harvested acre</td>\n",
       "      <td>Corn</td>\n",
       "      <td>United States</td>\n",
       "      <td>Supply and use</td>\n",
       "      <td>Bushels per acre</td>\n",
       "      <td>26.2</td>\n",
       "      <td>1868</td>\n",
       "      <td>Commodity Market Year</td>\n",
       "    </tr>\n",
       "    <tr>\n",
       "      <td>194</td>\n",
       "      <td>Yield per harvested acre</td>\n",
       "      <td>Corn</td>\n",
       "      <td>United States</td>\n",
       "      <td>Supply and use</td>\n",
       "      <td>Bushels per acre</td>\n",
       "      <td>21.8</td>\n",
       "      <td>1869</td>\n",
       "      <td>Commodity Market Year</td>\n",
       "    </tr>\n",
       "    <tr>\n",
       "      <td>195</td>\n",
       "      <td>Yield per harvested acre</td>\n",
       "      <td>Corn</td>\n",
       "      <td>United States</td>\n",
       "      <td>Supply and use</td>\n",
       "      <td>Bushels per acre</td>\n",
       "      <td>29.3</td>\n",
       "      <td>1870</td>\n",
       "      <td>Commodity Market Year</td>\n",
       "    </tr>\n",
       "    <tr>\n",
       "      <td>...</td>\n",
       "      <td>...</td>\n",
       "      <td>...</td>\n",
       "      <td>...</td>\n",
       "      <td>...</td>\n",
       "      <td>...</td>\n",
       "      <td>...</td>\n",
       "      <td>...</td>\n",
       "      <td>...</td>\n",
       "    </tr>\n",
       "    <tr>\n",
       "      <td>919</td>\n",
       "      <td>Yield/harvested acre</td>\n",
       "      <td>Oats</td>\n",
       "      <td>NaN</td>\n",
       "      <td>NaN</td>\n",
       "      <td>Bushels per acre</td>\n",
       "      <td>68.0</td>\n",
       "      <td>2024/25</td>\n",
       "      <td>Commodity Market Year</td>\n",
       "    </tr>\n",
       "    <tr>\n",
       "      <td>920</td>\n",
       "      <td>Yield/harvested acre</td>\n",
       "      <td>Oats</td>\n",
       "      <td>NaN</td>\n",
       "      <td>NaN</td>\n",
       "      <td>Bushels per acre</td>\n",
       "      <td>68.4</td>\n",
       "      <td>2025/26</td>\n",
       "      <td>Commodity Market Year</td>\n",
       "    </tr>\n",
       "    <tr>\n",
       "      <td>921</td>\n",
       "      <td>Yield/harvested acre</td>\n",
       "      <td>Oats</td>\n",
       "      <td>NaN</td>\n",
       "      <td>NaN</td>\n",
       "      <td>Bushels per acre</td>\n",
       "      <td>68.7</td>\n",
       "      <td>2026/27</td>\n",
       "      <td>Commodity Market Year</td>\n",
       "    </tr>\n",
       "    <tr>\n",
       "      <td>922</td>\n",
       "      <td>Yield/harvested acre</td>\n",
       "      <td>Oats</td>\n",
       "      <td>NaN</td>\n",
       "      <td>NaN</td>\n",
       "      <td>Bushels per acre</td>\n",
       "      <td>69.0</td>\n",
       "      <td>2027/28</td>\n",
       "      <td>Commodity Market Year</td>\n",
       "    </tr>\n",
       "    <tr>\n",
       "      <td>923</td>\n",
       "      <td>Yield/harvested acre</td>\n",
       "      <td>Oats</td>\n",
       "      <td>NaN</td>\n",
       "      <td>NaN</td>\n",
       "      <td>Bushels per acre</td>\n",
       "      <td>69.4</td>\n",
       "      <td>2028/29</td>\n",
       "      <td>Commodity Market Year</td>\n",
       "    </tr>\n",
       "  </tbody>\n",
       "</table>\n",
       "<p>601 rows × 8 columns</p>\n",
       "</div>"
      ],
      "text/plain": [
       "                    Attribute Commodity SC_GeographyIndented_Desc  \\\n",
       "191  Yield per harvested acre      Corn             United States   \n",
       "192  Yield per harvested acre      Corn             United States   \n",
       "193  Yield per harvested acre      Corn             United States   \n",
       "194  Yield per harvested acre      Corn             United States   \n",
       "195  Yield per harvested acre      Corn             United States   \n",
       "..                        ...       ...                       ...   \n",
       "919      Yield/harvested acre      Oats                       NaN   \n",
       "920      Yield/harvested acre      Oats                       NaN   \n",
       "921      Yield/harvested acre      Oats                       NaN   \n",
       "922      Yield/harvested acre      Oats                       NaN   \n",
       "923      Yield/harvested acre      Oats                       NaN   \n",
       "\n",
       "      SC_Group_Desc             Units  Value     Year               YearType  \n",
       "191  Supply and use  Bushels per acre   24.3     1866  Commodity Market Year  \n",
       "192  Supply and use  Bushels per acre   24.7     1867  Commodity Market Year  \n",
       "193  Supply and use  Bushels per acre   26.2     1868  Commodity Market Year  \n",
       "194  Supply and use  Bushels per acre   21.8     1869  Commodity Market Year  \n",
       "195  Supply and use  Bushels per acre   29.3     1870  Commodity Market Year  \n",
       "..              ...               ...    ...      ...                    ...  \n",
       "919             NaN  Bushels per acre   68.0  2024/25  Commodity Market Year  \n",
       "920             NaN  Bushels per acre   68.4  2025/26  Commodity Market Year  \n",
       "921             NaN  Bushels per acre   68.7  2026/27  Commodity Market Year  \n",
       "922             NaN  Bushels per acre   69.0  2027/28  Commodity Market Year  \n",
       "923             NaN  Bushels per acre   69.4  2028/29  Commodity Market Year  \n",
       "\n",
       "[601 rows x 8 columns]"
      ]
     },
     "execution_count": 41,
     "metadata": {},
     "output_type": "execute_result"
    }
   ],
   "source": [
    "df[df['Units']=='Bushels per acre']"
   ]
  },
  {
   "cell_type": "markdown",
   "metadata": {},
   "source": [
    "##### as we can see data under SC_Group_Desc which is 'Bushels per acre' has a corresponding Units value of 'Supply and use', therefore, we can probably fill in the nan values with 'Supply and use'"
   ]
  },
  {
   "cell_type": "code",
   "execution_count": 42,
   "metadata": {},
   "outputs": [],
   "source": [
    "df['SC_Group_Desc'].fillna('Supply and use', inplace=True)"
   ]
  },
  {
   "cell_type": "code",
   "execution_count": 43,
   "metadata": {},
   "outputs": [
    {
     "data": {
      "text/html": [
       "<div>\n",
       "<style scoped>\n",
       "    .dataframe tbody tr th:only-of-type {\n",
       "        vertical-align: middle;\n",
       "    }\n",
       "\n",
       "    .dataframe tbody tr th {\n",
       "        vertical-align: top;\n",
       "    }\n",
       "\n",
       "    .dataframe thead th {\n",
       "        text-align: right;\n",
       "    }\n",
       "</style>\n",
       "<table border=\"1\" class=\"dataframe\">\n",
       "  <thead>\n",
       "    <tr style=\"text-align: right;\">\n",
       "      <th></th>\n",
       "      <th>Attribute</th>\n",
       "      <th>Commodity</th>\n",
       "      <th>SC_GeographyIndented_Desc</th>\n",
       "      <th>SC_Group_Desc</th>\n",
       "      <th>Units</th>\n",
       "      <th>Value</th>\n",
       "      <th>Year</th>\n",
       "      <th>YearType</th>\n",
       "    </tr>\n",
       "  </thead>\n",
       "  <tbody>\n",
       "    <tr>\n",
       "      <td>0</td>\n",
       "      <td>Prices received by farmers</td>\n",
       "      <td>Corn</td>\n",
       "      <td>United States</td>\n",
       "      <td>Prices</td>\n",
       "      <td>Dollars per bushel</td>\n",
       "      <td>0.657</td>\n",
       "      <td>1866</td>\n",
       "      <td>Commodity Market Year</td>\n",
       "    </tr>\n",
       "    <tr>\n",
       "      <td>1</td>\n",
       "      <td>Prices received by farmers</td>\n",
       "      <td>Corn</td>\n",
       "      <td>United States</td>\n",
       "      <td>Prices</td>\n",
       "      <td>Dollars per bushel</td>\n",
       "      <td>0.781</td>\n",
       "      <td>1867</td>\n",
       "      <td>Commodity Market Year</td>\n",
       "    </tr>\n",
       "    <tr>\n",
       "      <td>2</td>\n",
       "      <td>Prices received by farmers</td>\n",
       "      <td>Corn</td>\n",
       "      <td>United States</td>\n",
       "      <td>Prices</td>\n",
       "      <td>Dollars per bushel</td>\n",
       "      <td>0.617</td>\n",
       "      <td>1868</td>\n",
       "      <td>Commodity Market Year</td>\n",
       "    </tr>\n",
       "    <tr>\n",
       "      <td>3</td>\n",
       "      <td>Prices received by farmers</td>\n",
       "      <td>Corn</td>\n",
       "      <td>United States</td>\n",
       "      <td>Prices</td>\n",
       "      <td>Dollars per bushel</td>\n",
       "      <td>0.725</td>\n",
       "      <td>1869</td>\n",
       "      <td>Commodity Market Year</td>\n",
       "    </tr>\n",
       "    <tr>\n",
       "      <td>4</td>\n",
       "      <td>Prices received by farmers</td>\n",
       "      <td>Corn</td>\n",
       "      <td>United States</td>\n",
       "      <td>Prices</td>\n",
       "      <td>Dollars per bushel</td>\n",
       "      <td>0.521</td>\n",
       "      <td>1870</td>\n",
       "      <td>Commodity Market Year</td>\n",
       "    </tr>\n",
       "    <tr>\n",
       "      <td>...</td>\n",
       "      <td>...</td>\n",
       "      <td>...</td>\n",
       "      <td>...</td>\n",
       "      <td>...</td>\n",
       "      <td>...</td>\n",
       "      <td>...</td>\n",
       "      <td>...</td>\n",
       "      <td>...</td>\n",
       "    </tr>\n",
       "    <tr>\n",
       "      <td>919</td>\n",
       "      <td>Yield/harvested acre</td>\n",
       "      <td>Oats</td>\n",
       "      <td>NaN</td>\n",
       "      <td>Supply and use</td>\n",
       "      <td>Bushels per acre</td>\n",
       "      <td>68.000</td>\n",
       "      <td>2024/25</td>\n",
       "      <td>Commodity Market Year</td>\n",
       "    </tr>\n",
       "    <tr>\n",
       "      <td>920</td>\n",
       "      <td>Yield/harvested acre</td>\n",
       "      <td>Oats</td>\n",
       "      <td>NaN</td>\n",
       "      <td>Supply and use</td>\n",
       "      <td>Bushels per acre</td>\n",
       "      <td>68.400</td>\n",
       "      <td>2025/26</td>\n",
       "      <td>Commodity Market Year</td>\n",
       "    </tr>\n",
       "    <tr>\n",
       "      <td>921</td>\n",
       "      <td>Yield/harvested acre</td>\n",
       "      <td>Oats</td>\n",
       "      <td>NaN</td>\n",
       "      <td>Supply and use</td>\n",
       "      <td>Bushels per acre</td>\n",
       "      <td>68.700</td>\n",
       "      <td>2026/27</td>\n",
       "      <td>Commodity Market Year</td>\n",
       "    </tr>\n",
       "    <tr>\n",
       "      <td>922</td>\n",
       "      <td>Yield/harvested acre</td>\n",
       "      <td>Oats</td>\n",
       "      <td>NaN</td>\n",
       "      <td>Supply and use</td>\n",
       "      <td>Bushels per acre</td>\n",
       "      <td>69.000</td>\n",
       "      <td>2027/28</td>\n",
       "      <td>Commodity Market Year</td>\n",
       "    </tr>\n",
       "    <tr>\n",
       "      <td>923</td>\n",
       "      <td>Yield/harvested acre</td>\n",
       "      <td>Oats</td>\n",
       "      <td>NaN</td>\n",
       "      <td>Supply and use</td>\n",
       "      <td>Bushels per acre</td>\n",
       "      <td>69.400</td>\n",
       "      <td>2028/29</td>\n",
       "      <td>Commodity Market Year</td>\n",
       "    </tr>\n",
       "  </tbody>\n",
       "</table>\n",
       "<p>6675 rows × 8 columns</p>\n",
       "</div>"
      ],
      "text/plain": [
       "                      Attribute Commodity SC_GeographyIndented_Desc  \\\n",
       "0    Prices received by farmers      Corn             United States   \n",
       "1    Prices received by farmers      Corn             United States   \n",
       "2    Prices received by farmers      Corn             United States   \n",
       "3    Prices received by farmers      Corn             United States   \n",
       "4    Prices received by farmers      Corn             United States   \n",
       "..                          ...       ...                       ...   \n",
       "919        Yield/harvested acre      Oats                       NaN   \n",
       "920        Yield/harvested acre      Oats                       NaN   \n",
       "921        Yield/harvested acre      Oats                       NaN   \n",
       "922        Yield/harvested acre      Oats                       NaN   \n",
       "923        Yield/harvested acre      Oats                       NaN   \n",
       "\n",
       "      SC_Group_Desc               Units   Value     Year  \\\n",
       "0            Prices  Dollars per bushel   0.657     1866   \n",
       "1            Prices  Dollars per bushel   0.781     1867   \n",
       "2            Prices  Dollars per bushel   0.617     1868   \n",
       "3            Prices  Dollars per bushel   0.725     1869   \n",
       "4            Prices  Dollars per bushel   0.521     1870   \n",
       "..              ...                 ...     ...      ...   \n",
       "919  Supply and use    Bushels per acre  68.000  2024/25   \n",
       "920  Supply and use    Bushels per acre  68.400  2025/26   \n",
       "921  Supply and use    Bushels per acre  68.700  2026/27   \n",
       "922  Supply and use    Bushels per acre  69.000  2027/28   \n",
       "923  Supply and use    Bushels per acre  69.400  2028/29   \n",
       "\n",
       "                  YearType  \n",
       "0    Commodity Market Year  \n",
       "1    Commodity Market Year  \n",
       "2    Commodity Market Year  \n",
       "3    Commodity Market Year  \n",
       "4    Commodity Market Year  \n",
       "..                     ...  \n",
       "919  Commodity Market Year  \n",
       "920  Commodity Market Year  \n",
       "921  Commodity Market Year  \n",
       "922  Commodity Market Year  \n",
       "923  Commodity Market Year  \n",
       "\n",
       "[6675 rows x 8 columns]"
      ]
     },
     "execution_count": 43,
     "metadata": {},
     "output_type": "execute_result"
    }
   ],
   "source": [
    "df"
   ]
  },
  {
   "cell_type": "markdown",
   "metadata": {},
   "source": [
    "##### The only column that has nan values is SC_GeographyIndented_Desc which depicts location, however that column is not present in projection dataframe so I have decided to leave that blank as it will not add any value to the result."
   ]
  },
  {
   "cell_type": "code",
   "execution_count": 44,
   "metadata": {},
   "outputs": [
    {
     "data": {
      "text/plain": [
       "Prices received by farmers                     662\n",
       "Production                                     601\n",
       "Yield per harvested acre                       553\n",
       "Harvested acreage                              553\n",
       "Planted acreage                                373\n",
       "Feed and residual use                          362\n",
       "Commercial stocks                              231\n",
       "Ending stocks                                  228\n",
       "Beginning stocks                               228\n",
       "Total supply                                   180\n",
       "Food, alcohol, and industrial use              180\n",
       "Exports, market year                           180\n",
       "Total disappearance                            180\n",
       "Total domestic use                             180\n",
       "Exports, trade year                            180\n",
       "Seed use                                       180\n",
       "Imports, market year                           177\n",
       "Food, seed, and industrial use                 177\n",
       "Imports, trade year                            146\n",
       "CCC-owned inventory (stocks)                   104\n",
       "Stocks/use ratio, percent                       48\n",
       "Returns over variable costs (net returns)       48\n",
       "Exports                                         48\n",
       "Supply total                                    48\n",
       "Food, seed, & industrial                        48\n",
       "Harvested acres                                 48\n",
       "Total use/disposition                           48\n",
       "Yield/harvested acre                            48\n",
       "Farm price                                      48\n",
       "Domestic                                        48\n",
       "Variable cost of production (per bushel)        48\n",
       "Feed & residual                                 48\n",
       "Variable cost of production (per acre)          48\n",
       "Loan rate                                       48\n",
       "Planted acres                                   48\n",
       "Imports                                         48\n",
       "Glucose and dextrose use                        40\n",
       "High-fructose corn syrup (HFCS) use             40\n",
       "Cereal and other product use                    40\n",
       "Alcohol for beverages and manufacturing use     40\n",
       "Alcohol for fuel use                            40\n",
       "Starch use                                      40\n",
       "Ethanol for fuel                                12\n",
       "Name: Attribute, dtype: int64"
      ]
     },
     "execution_count": 44,
     "metadata": {},
     "output_type": "execute_result"
    }
   ],
   "source": [
    "df['Attribute'].value_counts()"
   ]
  },
  {
   "cell_type": "markdown",
   "metadata": {},
   "source": [
    "## Hypothesis 1"
   ]
  },
  {
   "cell_type": "markdown",
   "metadata": {},
   "source": [
    "### Money generated from exporting the crops are more than importing the crops"
   ]
  },
  {
   "cell_type": "markdown",
   "metadata": {},
   "source": [
    "The information of exports and imports are in Attribute column so we must first check it that how the data looks like if only Imports and Exports are selected from that particular column."
   ]
  },
  {
   "cell_type": "code",
   "execution_count": 45,
   "metadata": {},
   "outputs": [],
   "source": [
    "df_my=df[df['Attribute']=='Exports, market year']"
   ]
  },
  {
   "cell_type": "code",
   "execution_count": 46,
   "metadata": {},
   "outputs": [],
   "source": [
    "df_ty=df[df['Attribute']=='Exports, trade year']"
   ]
  },
  {
   "cell_type": "code",
   "execution_count": 47,
   "metadata": {},
   "outputs": [
    {
     "data": {
      "text/plain": [
       "Million bushels    180\n",
       "Name: Units, dtype: int64"
      ]
     },
     "execution_count": 47,
     "metadata": {},
     "output_type": "execute_result"
    }
   ],
   "source": [
    "df_my['Units'].value_counts()"
   ]
  },
  {
   "cell_type": "code",
   "execution_count": 48,
   "metadata": {},
   "outputs": [
    {
     "data": {
      "text/plain": [
       "1,000 metric tons    180\n",
       "Name: Units, dtype: int64"
      ]
     },
     "execution_count": 48,
     "metadata": {},
     "output_type": "execute_result"
    }
   ],
   "source": [
    "df_ty['Units'].value_counts()"
   ]
  },
  {
   "cell_type": "markdown",
   "metadata": {},
   "source": [
    "##### Exports and Imports were the fields of projection dataframe, however they can be campared to 'export market year and import market year' from the feed dataset as they have same units as 'million bushels'. "
   ]
  },
  {
   "cell_type": "code",
   "execution_count": 49,
   "metadata": {},
   "outputs": [],
   "source": [
    "df_ex=df[(df['Attribute']=='Exports') | (df['Attribute']=='Imports')]"
   ]
  },
  {
   "cell_type": "code",
   "execution_count": 50,
   "metadata": {},
   "outputs": [
    {
     "data": {
      "text/plain": [
       "Million bushels    96\n",
       "Name: Units, dtype: int64"
      ]
     },
     "execution_count": 50,
     "metadata": {},
     "output_type": "execute_result"
    }
   ],
   "source": [
    "df_ex['Units'].value_counts()"
   ]
  },
  {
   "cell_type": "markdown",
   "metadata": {},
   "source": [
    "##### We cannot use 'export trade year and import trade year' for the comparison as both have units as '1000 metric tons', whereas, market year has unit as 'million bushels' so comparing two different units will not help us in getting the accurate data. "
   ]
  },
  {
   "cell_type": "code",
   "execution_count": 51,
   "metadata": {},
   "outputs": [],
   "source": [
    "df_export=df[(df['Attribute']=='Exports, market year') | (df['Attribute']=='Exports')]"
   ]
  },
  {
   "cell_type": "code",
   "execution_count": 52,
   "metadata": {},
   "outputs": [
    {
     "data": {
      "text/html": [
       "<div>\n",
       "<style scoped>\n",
       "    .dataframe tbody tr th:only-of-type {\n",
       "        vertical-align: middle;\n",
       "    }\n",
       "\n",
       "    .dataframe tbody tr th {\n",
       "        vertical-align: top;\n",
       "    }\n",
       "\n",
       "    .dataframe thead th {\n",
       "        text-align: right;\n",
       "    }\n",
       "</style>\n",
       "<table border=\"1\" class=\"dataframe\">\n",
       "  <thead>\n",
       "    <tr style=\"text-align: right;\">\n",
       "      <th></th>\n",
       "      <th>Attribute</th>\n",
       "      <th>Commodity</th>\n",
       "      <th>SC_GeographyIndented_Desc</th>\n",
       "      <th>SC_Group_Desc</th>\n",
       "      <th>Units</th>\n",
       "      <th>Value</th>\n",
       "      <th>Year</th>\n",
       "      <th>YearType</th>\n",
       "    </tr>\n",
       "  </thead>\n",
       "  <tbody>\n",
       "    <tr>\n",
       "      <td>599</td>\n",
       "      <td>Exports, market year</td>\n",
       "      <td>Corn</td>\n",
       "      <td>United States</td>\n",
       "      <td>Supply and use</td>\n",
       "      <td>Million bushels</td>\n",
       "      <td>1664.494</td>\n",
       "      <td>1975</td>\n",
       "      <td>MY Sep-Aug</td>\n",
       "    </tr>\n",
       "    <tr>\n",
       "      <td>600</td>\n",
       "      <td>Exports, market year</td>\n",
       "      <td>Corn</td>\n",
       "      <td>United States</td>\n",
       "      <td>Supply and use</td>\n",
       "      <td>Million bushels</td>\n",
       "      <td>1645.119</td>\n",
       "      <td>1976</td>\n",
       "      <td>MY Sep-Aug</td>\n",
       "    </tr>\n",
       "    <tr>\n",
       "      <td>601</td>\n",
       "      <td>Exports, market year</td>\n",
       "      <td>Corn</td>\n",
       "      <td>United States</td>\n",
       "      <td>Supply and use</td>\n",
       "      <td>Million bushels</td>\n",
       "      <td>1896.396</td>\n",
       "      <td>1977</td>\n",
       "      <td>MY Sep-Aug</td>\n",
       "    </tr>\n",
       "    <tr>\n",
       "      <td>602</td>\n",
       "      <td>Exports, market year</td>\n",
       "      <td>Corn</td>\n",
       "      <td>United States</td>\n",
       "      <td>Supply and use</td>\n",
       "      <td>Million bushels</td>\n",
       "      <td>2113.117</td>\n",
       "      <td>1978</td>\n",
       "      <td>MY Sep-Aug</td>\n",
       "    </tr>\n",
       "    <tr>\n",
       "      <td>603</td>\n",
       "      <td>Exports, market year</td>\n",
       "      <td>Corn</td>\n",
       "      <td>United States</td>\n",
       "      <td>Supply and use</td>\n",
       "      <td>Million bushels</td>\n",
       "      <td>2401.517</td>\n",
       "      <td>1979</td>\n",
       "      <td>MY Sep-Aug</td>\n",
       "    </tr>\n",
       "    <tr>\n",
       "      <td>...</td>\n",
       "      <td>...</td>\n",
       "      <td>...</td>\n",
       "      <td>...</td>\n",
       "      <td>...</td>\n",
       "      <td>...</td>\n",
       "      <td>...</td>\n",
       "      <td>...</td>\n",
       "      <td>...</td>\n",
       "    </tr>\n",
       "    <tr>\n",
       "      <td>739</td>\n",
       "      <td>Exports</td>\n",
       "      <td>Oats</td>\n",
       "      <td>NaN</td>\n",
       "      <td>Supply and use</td>\n",
       "      <td>Million bushels</td>\n",
       "      <td>2.000</td>\n",
       "      <td>2024/25</td>\n",
       "      <td>Commodity Market Year</td>\n",
       "    </tr>\n",
       "    <tr>\n",
       "      <td>740</td>\n",
       "      <td>Exports</td>\n",
       "      <td>Oats</td>\n",
       "      <td>NaN</td>\n",
       "      <td>Supply and use</td>\n",
       "      <td>Million bushels</td>\n",
       "      <td>2.000</td>\n",
       "      <td>2025/26</td>\n",
       "      <td>Commodity Market Year</td>\n",
       "    </tr>\n",
       "    <tr>\n",
       "      <td>741</td>\n",
       "      <td>Exports</td>\n",
       "      <td>Oats</td>\n",
       "      <td>NaN</td>\n",
       "      <td>Supply and use</td>\n",
       "      <td>Million bushels</td>\n",
       "      <td>2.000</td>\n",
       "      <td>2026/27</td>\n",
       "      <td>Commodity Market Year</td>\n",
       "    </tr>\n",
       "    <tr>\n",
       "      <td>742</td>\n",
       "      <td>Exports</td>\n",
       "      <td>Oats</td>\n",
       "      <td>NaN</td>\n",
       "      <td>Supply and use</td>\n",
       "      <td>Million bushels</td>\n",
       "      <td>2.000</td>\n",
       "      <td>2027/28</td>\n",
       "      <td>Commodity Market Year</td>\n",
       "    </tr>\n",
       "    <tr>\n",
       "      <td>743</td>\n",
       "      <td>Exports</td>\n",
       "      <td>Oats</td>\n",
       "      <td>NaN</td>\n",
       "      <td>Supply and use</td>\n",
       "      <td>Million bushels</td>\n",
       "      <td>2.000</td>\n",
       "      <td>2028/29</td>\n",
       "      <td>Commodity Market Year</td>\n",
       "    </tr>\n",
       "  </tbody>\n",
       "</table>\n",
       "<p>228 rows × 8 columns</p>\n",
       "</div>"
      ],
      "text/plain": [
       "                Attribute Commodity SC_GeographyIndented_Desc   SC_Group_Desc  \\\n",
       "599  Exports, market year      Corn             United States  Supply and use   \n",
       "600  Exports, market year      Corn             United States  Supply and use   \n",
       "601  Exports, market year      Corn             United States  Supply and use   \n",
       "602  Exports, market year      Corn             United States  Supply and use   \n",
       "603  Exports, market year      Corn             United States  Supply and use   \n",
       "..                    ...       ...                       ...             ...   \n",
       "739               Exports      Oats                       NaN  Supply and use   \n",
       "740               Exports      Oats                       NaN  Supply and use   \n",
       "741               Exports      Oats                       NaN  Supply and use   \n",
       "742               Exports      Oats                       NaN  Supply and use   \n",
       "743               Exports      Oats                       NaN  Supply and use   \n",
       "\n",
       "               Units     Value     Year               YearType  \n",
       "599  Million bushels  1664.494     1975             MY Sep-Aug  \n",
       "600  Million bushels  1645.119     1976             MY Sep-Aug  \n",
       "601  Million bushels  1896.396     1977             MY Sep-Aug  \n",
       "602  Million bushels  2113.117     1978             MY Sep-Aug  \n",
       "603  Million bushels  2401.517     1979             MY Sep-Aug  \n",
       "..               ...       ...      ...                    ...  \n",
       "739  Million bushels     2.000  2024/25  Commodity Market Year  \n",
       "740  Million bushels     2.000  2025/26  Commodity Market Year  \n",
       "741  Million bushels     2.000  2026/27  Commodity Market Year  \n",
       "742  Million bushels     2.000  2027/28  Commodity Market Year  \n",
       "743  Million bushels     2.000  2028/29  Commodity Market Year  \n",
       "\n",
       "[228 rows x 8 columns]"
      ]
     },
     "execution_count": 52,
     "metadata": {},
     "output_type": "execute_result"
    }
   ],
   "source": [
    "df_export"
   ]
  },
  {
   "cell_type": "markdown",
   "metadata": {},
   "source": [
    "Code below adds all the values present under column 'Value', therefore $ 129,192.25 was made over the years just by exporting million bushels per year. "
   ]
  },
  {
   "cell_type": "markdown",
   "metadata": {},
   "source": [
    "1. Corn, 1 bushel = 56 pounds. \n",
    "2. Sorghum, 1 bushel = 56 pounds\n",
    "3. Barley, 1 bushel = 48 pounds\n",
    "4. Oats, 1 bushel = 32 pounds"
   ]
  },
  {
   "cell_type": "markdown",
   "metadata": {},
   "source": [
    "https://www.geeksforgeeks.org/python-pandas-dataframe-sum/"
   ]
  },
  {
   "cell_type": "code",
   "execution_count": 53,
   "metadata": {},
   "outputs": [
    {
     "data": {
      "text/plain": [
       "129192.25899999999"
      ]
     },
     "execution_count": 53,
     "metadata": {},
     "output_type": "execute_result"
    }
   ],
   "source": [
    "df_export['Value'].sum(axis=0)"
   ]
  },
  {
   "cell_type": "code",
   "execution_count": 54,
   "metadata": {},
   "outputs": [],
   "source": [
    "df_import=df[(df['Attribute']=='Imports, market year') | (df['Attribute']=='Imports')]"
   ]
  },
  {
   "cell_type": "markdown",
   "metadata": {},
   "source": [
    "$ 6668.57 were made over the years importing million bushels per year."
   ]
  },
  {
   "cell_type": "code",
   "execution_count": 55,
   "metadata": {},
   "outputs": [
    {
     "data": {
      "text/plain": [
       "6668.572999999999"
      ]
     },
     "execution_count": 55,
     "metadata": {},
     "output_type": "execute_result"
    }
   ],
   "source": [
    "df_import['Value'].sum(axis=0)"
   ]
  },
  {
   "cell_type": "markdown",
   "metadata": {},
   "source": [
    "### Therefore, hypothesis is correct as 129,192.25 > 6,668.57, hence depicting that export generates more money than import."
   ]
  },
  {
   "cell_type": "markdown",
   "metadata": {},
   "source": [
    "#### Valuable information drawn from hypothesis: United states produce so much crops per year that it can supply enough crops to it's states as well as to other countries too."
   ]
  },
  {
   "cell_type": "markdown",
   "metadata": {},
   "source": [
    "## Hypothesis 2"
   ]
  },
  {
   "cell_type": "markdown",
   "metadata": {},
   "source": [
    "### Value of the crops will increase from 2017 to 2029. this is based on the assumption that demand of crops increases every following year. Therefore, this leads to another hypothesis that value should have been increasing since the very beginning as shown above."
   ]
  },
  {
   "cell_type": "markdown",
   "metadata": {},
   "source": [
    "##### Need to split the Year column as data from projection dataframe has year values like: 2017/2018, 2018/2019, ...., therefore considering only lowerbound of the data."
   ]
  },
  {
   "cell_type": "markdown",
   "metadata": {},
   "source": [
    "#### getting the data into right format for later visualization"
   ]
  },
  {
   "cell_type": "code",
   "execution_count": 56,
   "metadata": {},
   "outputs": [],
   "source": [
    "df[['Year LowerEnd', 'Year UpperEnd']]=df['Year'].str.split('/', expand=True)"
   ]
  },
  {
   "cell_type": "code",
   "execution_count": 57,
   "metadata": {},
   "outputs": [],
   "source": [
    "df=df.drop('Year UpperEnd', axis=1)"
   ]
  },
  {
   "cell_type": "code",
   "execution_count": 58,
   "metadata": {},
   "outputs": [],
   "source": [
    "df_sorghum=df[df['Commodity']=='Sorghum']"
   ]
  },
  {
   "cell_type": "code",
   "execution_count": 59,
   "metadata": {},
   "outputs": [
    {
     "data": {
      "text/html": [
       "<div>\n",
       "<style scoped>\n",
       "    .dataframe tbody tr th:only-of-type {\n",
       "        vertical-align: middle;\n",
       "    }\n",
       "\n",
       "    .dataframe tbody tr th {\n",
       "        vertical-align: top;\n",
       "    }\n",
       "\n",
       "    .dataframe thead th {\n",
       "        text-align: right;\n",
       "    }\n",
       "</style>\n",
       "<table border=\"1\" class=\"dataframe\">\n",
       "  <thead>\n",
       "    <tr style=\"text-align: right;\">\n",
       "      <th></th>\n",
       "      <th>Attribute</th>\n",
       "      <th>Commodity</th>\n",
       "      <th>SC_GeographyIndented_Desc</th>\n",
       "      <th>SC_Group_Desc</th>\n",
       "      <th>Units</th>\n",
       "      <th>Value</th>\n",
       "      <th>Year</th>\n",
       "      <th>YearType</th>\n",
       "      <th>Year LowerEnd</th>\n",
       "    </tr>\n",
       "  </thead>\n",
       "  <tbody>\n",
       "    <tr>\n",
       "      <td>25419</td>\n",
       "      <td>Prices received by farmers</td>\n",
       "      <td>Sorghum</td>\n",
       "      <td>United States</td>\n",
       "      <td>Prices</td>\n",
       "      <td>Dollars per bushel</td>\n",
       "      <td>2.3352</td>\n",
       "      <td>1996</td>\n",
       "      <td>Commodity Market Year</td>\n",
       "      <td>NaN</td>\n",
       "    </tr>\n",
       "    <tr>\n",
       "      <td>25420</td>\n",
       "      <td>Prices received by farmers</td>\n",
       "      <td>Sorghum</td>\n",
       "      <td>United States</td>\n",
       "      <td>Prices</td>\n",
       "      <td>Dollars per bushel</td>\n",
       "      <td>2.2120</td>\n",
       "      <td>1997</td>\n",
       "      <td>Commodity Market Year</td>\n",
       "      <td>NaN</td>\n",
       "    </tr>\n",
       "    <tr>\n",
       "      <td>25421</td>\n",
       "      <td>Prices received by farmers</td>\n",
       "      <td>Sorghum</td>\n",
       "      <td>United States</td>\n",
       "      <td>Prices</td>\n",
       "      <td>Dollars per bushel</td>\n",
       "      <td>1.6632</td>\n",
       "      <td>1998</td>\n",
       "      <td>Commodity Market Year</td>\n",
       "      <td>NaN</td>\n",
       "    </tr>\n",
       "    <tr>\n",
       "      <td>25422</td>\n",
       "      <td>Prices received by farmers</td>\n",
       "      <td>Sorghum</td>\n",
       "      <td>United States</td>\n",
       "      <td>Prices</td>\n",
       "      <td>Dollars per bushel</td>\n",
       "      <td>1.5680</td>\n",
       "      <td>1999</td>\n",
       "      <td>Commodity Market Year</td>\n",
       "      <td>NaN</td>\n",
       "    </tr>\n",
       "    <tr>\n",
       "      <td>25423</td>\n",
       "      <td>Prices received by farmers</td>\n",
       "      <td>Sorghum</td>\n",
       "      <td>United States</td>\n",
       "      <td>Prices</td>\n",
       "      <td>Dollars per bushel</td>\n",
       "      <td>1.8872</td>\n",
       "      <td>2000</td>\n",
       "      <td>Commodity Market Year</td>\n",
       "      <td>NaN</td>\n",
       "    </tr>\n",
       "    <tr>\n",
       "      <td>...</td>\n",
       "      <td>...</td>\n",
       "      <td>...</td>\n",
       "      <td>...</td>\n",
       "      <td>...</td>\n",
       "      <td>...</td>\n",
       "      <td>...</td>\n",
       "      <td>...</td>\n",
       "      <td>...</td>\n",
       "      <td>...</td>\n",
       "    </tr>\n",
       "    <tr>\n",
       "      <td>691</td>\n",
       "      <td>Yield/harvested acre</td>\n",
       "      <td>Sorghum</td>\n",
       "      <td>NaN</td>\n",
       "      <td>Supply and use</td>\n",
       "      <td>Bushels per acre</td>\n",
       "      <td>67.3000</td>\n",
       "      <td>2024/25</td>\n",
       "      <td>Commodity Market Year</td>\n",
       "      <td>2024</td>\n",
       "    </tr>\n",
       "    <tr>\n",
       "      <td>692</td>\n",
       "      <td>Yield/harvested acre</td>\n",
       "      <td>Sorghum</td>\n",
       "      <td>NaN</td>\n",
       "      <td>Supply and use</td>\n",
       "      <td>Bushels per acre</td>\n",
       "      <td>67.3000</td>\n",
       "      <td>2025/26</td>\n",
       "      <td>Commodity Market Year</td>\n",
       "      <td>2025</td>\n",
       "    </tr>\n",
       "    <tr>\n",
       "      <td>693</td>\n",
       "      <td>Yield/harvested acre</td>\n",
       "      <td>Sorghum</td>\n",
       "      <td>NaN</td>\n",
       "      <td>Supply and use</td>\n",
       "      <td>Bushels per acre</td>\n",
       "      <td>67.3000</td>\n",
       "      <td>2026/27</td>\n",
       "      <td>Commodity Market Year</td>\n",
       "      <td>2026</td>\n",
       "    </tr>\n",
       "    <tr>\n",
       "      <td>694</td>\n",
       "      <td>Yield/harvested acre</td>\n",
       "      <td>Sorghum</td>\n",
       "      <td>NaN</td>\n",
       "      <td>Supply and use</td>\n",
       "      <td>Bushels per acre</td>\n",
       "      <td>67.3000</td>\n",
       "      <td>2027/28</td>\n",
       "      <td>Commodity Market Year</td>\n",
       "      <td>2027</td>\n",
       "    </tr>\n",
       "    <tr>\n",
       "      <td>695</td>\n",
       "      <td>Yield/harvested acre</td>\n",
       "      <td>Sorghum</td>\n",
       "      <td>NaN</td>\n",
       "      <td>Supply and use</td>\n",
       "      <td>Bushels per acre</td>\n",
       "      <td>67.3000</td>\n",
       "      <td>2028/29</td>\n",
       "      <td>Commodity Market Year</td>\n",
       "      <td>2028</td>\n",
       "    </tr>\n",
       "  </tbody>\n",
       "</table>\n",
       "<p>1489 rows × 9 columns</p>\n",
       "</div>"
      ],
      "text/plain": [
       "                        Attribute Commodity SC_GeographyIndented_Desc  \\\n",
       "25419  Prices received by farmers   Sorghum             United States   \n",
       "25420  Prices received by farmers   Sorghum             United States   \n",
       "25421  Prices received by farmers   Sorghum             United States   \n",
       "25422  Prices received by farmers   Sorghum             United States   \n",
       "25423  Prices received by farmers   Sorghum             United States   \n",
       "...                           ...       ...                       ...   \n",
       "691          Yield/harvested acre   Sorghum                       NaN   \n",
       "692          Yield/harvested acre   Sorghum                       NaN   \n",
       "693          Yield/harvested acre   Sorghum                       NaN   \n",
       "694          Yield/harvested acre   Sorghum                       NaN   \n",
       "695          Yield/harvested acre   Sorghum                       NaN   \n",
       "\n",
       "        SC_Group_Desc               Units    Value     Year  \\\n",
       "25419          Prices  Dollars per bushel   2.3352     1996   \n",
       "25420          Prices  Dollars per bushel   2.2120     1997   \n",
       "25421          Prices  Dollars per bushel   1.6632     1998   \n",
       "25422          Prices  Dollars per bushel   1.5680     1999   \n",
       "25423          Prices  Dollars per bushel   1.8872     2000   \n",
       "...               ...                 ...      ...      ...   \n",
       "691    Supply and use    Bushels per acre  67.3000  2024/25   \n",
       "692    Supply and use    Bushels per acre  67.3000  2025/26   \n",
       "693    Supply and use    Bushels per acre  67.3000  2026/27   \n",
       "694    Supply and use    Bushels per acre  67.3000  2027/28   \n",
       "695    Supply and use    Bushels per acre  67.3000  2028/29   \n",
       "\n",
       "                    YearType Year LowerEnd  \n",
       "25419  Commodity Market Year           NaN  \n",
       "25420  Commodity Market Year           NaN  \n",
       "25421  Commodity Market Year           NaN  \n",
       "25422  Commodity Market Year           NaN  \n",
       "25423  Commodity Market Year           NaN  \n",
       "...                      ...           ...  \n",
       "691    Commodity Market Year          2024  \n",
       "692    Commodity Market Year          2025  \n",
       "693    Commodity Market Year          2026  \n",
       "694    Commodity Market Year          2027  \n",
       "695    Commodity Market Year          2028  \n",
       "\n",
       "[1489 rows x 9 columns]"
      ]
     },
     "execution_count": 59,
     "metadata": {},
     "output_type": "execute_result"
    }
   ],
   "source": [
    "df_sorghum"
   ]
  },
  {
   "cell_type": "code",
   "execution_count": 60,
   "metadata": {},
   "outputs": [
    {
     "data": {
      "image/png": "[encoded data removed]",
      "text/plain": [
       "<Figure size 842.4x595.44 with 1 Axes>"
      ]
     },
     "metadata": {},
     "output_type": "display_data"
    }
   ],
   "source": [
    "this_plot=sns.lineplot(df_sorghum['Year LowerEnd'], df_sorghum['Value'], hue=df_sorghum['Commodity'], n_boot=1000)"
   ]
  },
  {
   "cell_type": "code",
   "execution_count": 61,
   "metadata": {},
   "outputs": [],
   "source": [
    "df_oats=df[df['Commodity']=='Oats']"
   ]
  },
  {
   "cell_type": "code",
   "execution_count": 62,
   "metadata": {},
   "outputs": [
    {
     "data": {
      "image/png": "[encoded data removed]",
      "text/plain": [
       "<Figure size 842.4x595.44 with 1 Axes>"
      ]
     },
     "metadata": {},
     "output_type": "display_data"
    }
   ],
   "source": [
    "this_plot=sns.lineplot(df_oats['Year LowerEnd'], df_oats['Value'], hue=df_oats['Commodity'], n_boot=1000)"
   ]
  },
  {
   "cell_type": "code",
   "execution_count": 63,
   "metadata": {},
   "outputs": [],
   "source": [
    "df_barley=df[df['Commodity']=='Barley']"
   ]
  },
  {
   "cell_type": "code",
   "execution_count": 64,
   "metadata": {},
   "outputs": [
    {
     "data": {
      "image/png": "[encoded data removed]",
      "text/plain": [
       "<Figure size 842.4x595.44 with 1 Axes>"
      ]
     },
     "metadata": {},
     "output_type": "display_data"
    }
   ],
   "source": [
    "this_plot=sns.lineplot(df_barley['Year LowerEnd'], df_barley['Value'], hue=df_barley['Commodity'], n_boot=1000)"
   ]
  },
  {
   "cell_type": "code",
   "execution_count": 65,
   "metadata": {},
   "outputs": [],
   "source": [
    "df_Corn=df[df['Commodity']=='Corn']"
   ]
  },
  {
   "cell_type": "code",
   "execution_count": 66,
   "metadata": {},
   "outputs": [
    {
     "data": {
      "image/png": "[encoded data removed]",
      "text/plain": [
       "<Figure size 842.4x595.44 with 1 Axes>"
      ]
     },
     "metadata": {},
     "output_type": "display_data"
    }
   ],
   "source": [
    "this_plot=sns.lineplot(df_Corn['Year LowerEnd'], df_Corn['Value'], hue=df_Corn['Commodity'], n_boot=1000)"
   ]
  },
  {
   "cell_type": "markdown",
   "metadata": {},
   "source": [
    "##### Therefore, hypothesis is true as value of Corn and Barley will increase in coming years, whereas, sorghum and oats show a constant values over the years."
   ]
  },
  {
   "cell_type": "markdown",
   "metadata": {},
   "source": [
    "#### Valuable information drawn from hypothesis: United states will be producing crops constantly in the coming year with no decrease in their production."
   ]
  },
  {
   "cell_type": "code",
   "execution_count": null,
   "metadata": {},
   "outputs": [],
   "source": []
  }
 ],
 "metadata": {
  "kernelspec": {
   "display_name": "Python 3",
   "language": "python",
   "name": "python3"
  },
  "language_info": {
   "codemirror_mode": {
    "name": "ipython",
    "version": 3
   },
   "file_extension": ".py",
   "mimetype": "text/x-python",
   "name": "python",
   "nbconvert_exporter": "python",
   "pygments_lexer": "ipython3",
   "version": "3.6.8"
  }
 },
 "nbformat": 4,
 "nbformat_minor": 2
}
